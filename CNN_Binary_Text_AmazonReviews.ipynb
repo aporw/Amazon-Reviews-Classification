{
 "cells": [
  {
   "cell_type": "markdown",
   "metadata": {},
   "source": [
    "# Convolutional Neural Network for Text Classification"
   ]
  },
  {
   "cell_type": "markdown",
   "metadata": {},
   "source": [
    "## Preliminaries"
   ]
  },
  {
   "cell_type": "markdown",
   "metadata": {},
   "source": [
    "### Imports"
   ]
  },
  {
   "cell_type": "code",
   "execution_count": 1,
   "metadata": {
    "ExecuteTime": {
     "end_time": "2018-11-11T17:54:14.818476Z",
     "start_time": "2018-11-11T17:54:11.663715Z"
    }
   },
   "outputs": [
    {
     "name": "stderr",
     "output_type": "stream",
     "text": [
      "C:\\ProgramData\\Anaconda3\\lib\\site-packages\\h5py\\__init__.py:36: FutureWarning: Conversion of the second argument of issubdtype from `float` to `np.floating` is deprecated. In future, it will be treated as `np.float64 == np.dtype(float).type`.\n",
      "  from ._conv import register_converters as _register_converters\n"
     ]
    },
    {
     "name": "stdout",
     "output_type": "stream",
     "text": [
      "1.11.0\n"
     ]
    }
   ],
   "source": [
    "import os\n",
    "import pickle \n",
    "\n",
    "import numpy as np\n",
    "import pandas as pd\n",
    "import matplotlib.pyplot as plt\n",
    "\n",
    "from sklearn.feature_extraction.text import TfidfVectorizer\n",
    "from sklearn.model_selection import train_test_split\n",
    "from sklearn import metrics\n",
    "\n",
    "\n",
    "import tensorflow as tf\n",
    "from tensorflow import keras\n",
    "import tensorflow.keras.backend as K\n",
    "print(tf.__version__)\n",
    "\n",
    "%matplotlib inline\n",
    "\n",
    "import sys\n",
    "sys.path.append(\"../..\")\n",
    "\n",
    "from E4525_ML import text\n",
    "from E4525_ML import plots"
   ]
  },
  {
   "cell_type": "code",
   "execution_count": 2,
   "metadata": {
    "ExecuteTime": {
     "end_time": "2018-11-11T17:54:15.947515Z",
     "start_time": "2018-11-11T17:54:14.818476Z"
    }
   },
   "outputs": [],
   "source": [
    "#\n",
    "from tensorflow.keras.backend import set_session\n",
    "\n",
    "config = tf.ConfigProto()\n",
    "config.gpu_options.allow_growth = True  # dynamically grow the memory used on the GPU\n",
    "config.log_device_placement = True  # to log device placement (on which device the operation ran)\n",
    "                                    # (nothing gets printed in Jupyter, only if you run it standalone)\n",
    "\n",
    "sess = tf.Session(config=config)\n",
    "\n",
    "set_session(sess)  # set this TensorFlow session as the default session for Keras"
   ]
  },
  {
   "cell_type": "code",
   "execution_count": 3,
   "metadata": {
    "ExecuteTime": {
     "end_time": "2018-11-11T17:54:15.959633Z",
     "start_time": "2018-11-11T17:54:15.947515Z"
    }
   },
   "outputs": [],
   "source": [
    "seed=456\n",
    "np.random.seed(seed)"
   ]
  },
  {
   "cell_type": "markdown",
   "metadata": {},
   "source": [
    "### Data"
   ]
  },
  {
   "cell_type": "code",
   "execution_count": 4,
   "metadata": {
    "ExecuteTime": {
     "end_time": "2018-11-11T17:54:15.975643Z",
     "start_time": "2018-11-11T17:54:15.959633Z"
    }
   },
   "outputs": [],
   "source": [
    "reviews_filename=\"../../raw/amazon-reviews/Reviews.csv\""
   ]
  },
  {
   "cell_type": "code",
   "execution_count": 5,
   "metadata": {
    "ExecuteTime": {
     "end_time": "2018-11-11T17:54:19.358901Z",
     "start_time": "2018-11-11T17:54:15.975643Z"
    }
   },
   "outputs": [],
   "source": [
    "data=pd.read_csv(reviews_filename)"
   ]
  },
  {
   "cell_type": "code",
   "execution_count": 6,
   "metadata": {
    "ExecuteTime": {
     "end_time": "2018-11-11T17:54:19.367364Z",
     "start_time": "2018-11-11T17:54:19.358901Z"
    }
   },
   "outputs": [],
   "source": [
    "data_dir=r\"../../data/amazon-reviews\"\n",
    "model_dir=r\"../../data/models/tf/AmazonReviews_Binary_Embedding\"\n",
    "dense_model_dir=r\"../../data/models/tf/AmazonReviews_Binary_CNN\""
   ]
  },
  {
   "cell_type": "markdown",
   "metadata": {},
   "source": [
    "### Split into Train, Validation and Test Sets"
   ]
  },
  {
   "cell_type": "code",
   "execution_count": 7,
   "metadata": {
    "ExecuteTime": {
     "end_time": "2018-11-11T17:54:19.387365Z",
     "start_time": "2018-11-11T17:54:19.367364Z"
    }
   },
   "outputs": [
    {
     "name": "stdout",
     "output_type": "stream",
     "text": [
      "(568454,)\n"
     ]
    },
    {
     "name": "stderr",
     "output_type": "stream",
     "text": [
      "C:\\ProgramData\\Anaconda3\\lib\\site-packages\\ipykernel_launcher.py:1: FutureWarning: Method .as_matrix will be removed in a future version. Use .values instead.\n",
      "  \"\"\"Entry point for launching an IPython kernel.\n",
      "C:\\ProgramData\\Anaconda3\\lib\\site-packages\\ipykernel_launcher.py:2: FutureWarning: Method .as_matrix will be removed in a future version. Use .values instead.\n",
      "  \n"
     ]
    }
   ],
   "source": [
    "documents_all=data[\"Text\"].as_matrix()\n",
    "labels_all=data[\"Score\"].as_matrix()\n",
    "print(documents_all.shape)"
   ]
  },
  {
   "cell_type": "code",
   "execution_count": 8,
   "metadata": {
    "ExecuteTime": {
     "end_time": "2018-11-11T17:54:19.511285Z",
     "start_time": "2018-11-11T17:54:19.387365Z"
    }
   },
   "outputs": [
    {
     "name": "stdout",
     "output_type": "stream",
     "text": [
      "(511608,) (56846,)\n"
     ]
    }
   ],
   "source": [
    "docs,docs_test,labels,labels_test=train_test_split(documents_all,labels_all,test_size=0.1)\n",
    "print(docs.shape,docs_test.shape)"
   ]
  },
  {
   "cell_type": "code",
   "execution_count": 9,
   "metadata": {
    "ExecuteTime": {
     "end_time": "2018-11-11T17:54:19.598993Z",
     "start_time": "2018-11-11T17:54:19.511285Z"
    }
   },
   "outputs": [
    {
     "name": "stdout",
     "output_type": "stream",
     "text": [
      "(486027,) (25581,)\n"
     ]
    }
   ],
   "source": [
    "docs_train,docs_val,labels_train,labels_val=train_test_split(docs,labels,test_size=0.05)\n",
    "print(docs_train.shape,docs_val.shape)"
   ]
  },
  {
   "cell_type": "markdown",
   "metadata": {
    "ExecuteTime": {
     "end_time": "2017-12-23T10:54:41.615545Z",
     "start_time": "2017-12-23T10:54:41.599916Z"
    }
   },
   "source": [
    "## Text Embedding Pipeline"
   ]
  },
  {
   "cell_type": "code",
   "execution_count": 10,
   "metadata": {
    "ExecuteTime": {
     "end_time": "2018-11-11T17:54:19.606993Z",
     "start_time": "2018-11-11T17:54:19.598993Z"
    }
   },
   "outputs": [],
   "source": [
    "countVectorizer=TfidfVectorizer(input=\"content\",decode_error=\"ignore\",\n",
    "                                       max_features=50000,\n",
    "                                       tokenizer=text.stem_tokenizer,\n",
    "                                       stop_words=text.stop_words())\n",
    "dencoder=text.DocumentEncoder(countVectorizer)\n"
   ]
  },
  {
   "cell_type": "code",
   "execution_count": 11,
   "metadata": {
    "ExecuteTime": {
     "end_time": "2018-11-11T17:54:20.650867Z",
     "start_time": "2018-11-11T17:54:19.606993Z"
    }
   },
   "outputs": [
    {
     "name": "stdout",
     "output_type": "stream",
     "text": [
      "(486027,) (25581,) (56846,)\n"
     ]
    }
   ],
   "source": [
    "pickle_filename=data_dir+\"/amazon_reviews.p\"\n",
    "if False:\n",
    "    texts_train=dencoder.fit_transform(docs_train)\n",
    "    texts_val=dencoder.transform(docs_val)\n",
    "    texts_test=dencoder.transform(docs_test)\n",
    "    \n",
    "    file=open(pickle_filename,\"wb\")\n",
    "    pickle.dump((countVectorizer,texts_train,labels_train,texts_val,labels_val,texts_test,labels_test),file)\n",
    "    file.close()\n",
    "else:\n",
    "    file=open(pickle_filename,\"rb\")\n",
    "    countVectorizer,texts_train,labels_train,texts_val,labels_val,texts_test,labels_test=pickle.load(file)\n",
    "    file.close()\n",
    "print(texts_train.shape,texts_val.shape,texts_test.shape)"
   ]
  },
  {
   "cell_type": "code",
   "execution_count": 12,
   "metadata": {
    "ExecuteTime": {
     "end_time": "2018-11-11T17:54:20.721603Z",
     "start_time": "2018-11-11T17:54:20.651276Z"
    }
   },
   "outputs": [],
   "source": [
    "ltexts=[len(text) for text in texts_train]"
   ]
  },
  {
   "cell_type": "code",
   "execution_count": 13,
   "metadata": {
    "ExecuteTime": {
     "end_time": "2018-11-11T17:54:20.913416Z",
     "start_time": "2018-11-11T17:54:20.721603Z"
    }
   },
   "outputs": [
    {
     "data": {
      "text/plain": [
       "(array([189251., 161099.,  66112.,  30420.,  15775.,   8397.,   5174.,\n",
       "          3155.,   1873.,   1325.]),\n",
       " array([  0.,  25.,  50.,  75., 100., 125., 150., 175., 200., 225., 250.]),\n",
       " <a list of 10 Patch objects>)"
      ]
     },
     "execution_count": 13,
     "metadata": {},
     "output_type": "execute_result"
    },
    {
     "data": {
      "image/png": "[encoded data removed]",
      "text/plain": [
       "<Figure size 432x288 with 1 Axes>"
      ]
     },
     "metadata": {},
     "output_type": "display_data"
    }
   ],
   "source": [
    "plt.hist(ltexts,range=[0,250])"
   ]
  },
  {
   "cell_type": "code",
   "execution_count": 14,
   "metadata": {
    "ExecuteTime": {
     "end_time": "2018-11-11T17:54:20.921435Z",
     "start_time": "2018-11-11T17:54:20.913416Z"
    }
   },
   "outputs": [],
   "source": [
    "def pad_texts(texts,W):\n",
    "    fragments=[]\n",
    "    fragment_labels=[]\n",
    "    for idx,text in enumerate(texts):\n",
    "            fragment=text[0:W]\n",
    "            fragment=np.pad(fragment,(W-len(fragment),0),mode=\"constant\",constant_values=-2)\n",
    "            fragments.append(fragment)\n",
    "    return np.array(fragments)"
   ]
  },
  {
   "cell_type": "code",
   "execution_count": 15,
   "metadata": {
    "ExecuteTime": {
     "end_time": "2018-11-11T17:54:20.933417Z",
     "start_time": "2018-11-11T17:54:20.921435Z"
    }
   },
   "outputs": [],
   "source": [
    "W=125"
   ]
  },
  {
   "cell_type": "code",
   "execution_count": 16,
   "metadata": {
    "ExecuteTime": {
     "end_time": "2018-11-11T17:54:36.883959Z",
     "start_time": "2018-11-11T17:54:20.933417Z"
    },
    "scrolled": false
   },
   "outputs": [
    {
     "name": "stdout",
     "output_type": "stream",
     "text": [
      "(486027, 125) (486027,)\n"
     ]
    }
   ],
   "source": [
    "X_train=pad_texts(texts_train,W)\n",
    "Y_train=labels_train>3\n",
    "print(X_train.shape,Y_train.shape)"
   ]
  },
  {
   "cell_type": "code",
   "execution_count": 17,
   "metadata": {
    "ExecuteTime": {
     "end_time": "2018-11-11T17:54:37.758891Z",
     "start_time": "2018-11-11T17:54:36.883959Z"
    }
   },
   "outputs": [
    {
     "name": "stdout",
     "output_type": "stream",
     "text": [
      "(25581, 125) (25581,)\n"
     ]
    }
   ],
   "source": [
    "X_val=pad_texts(texts_val,W)\n",
    "Y_val=labels_val>3\n",
    "print(X_val.shape,Y_val.shape)"
   ]
  },
  {
   "cell_type": "code",
   "execution_count": 18,
   "metadata": {
    "ExecuteTime": {
     "end_time": "2018-11-11T17:54:39.656601Z",
     "start_time": "2018-11-11T17:54:37.758891Z"
    }
   },
   "outputs": [
    {
     "name": "stdout",
     "output_type": "stream",
     "text": [
      "(56846, 125) (56846,)\n"
     ]
    }
   ],
   "source": [
    "X_test=pad_texts(texts_test,W)\n",
    "Y_test=labels_test>3\n",
    "print(X_test.shape,Y_test.shape)"
   ]
  },
  {
   "cell_type": "code",
   "execution_count": 19,
   "metadata": {
    "ExecuteTime": {
     "end_time": "2018-11-11T17:54:39.664603Z",
     "start_time": "2018-11-11T17:54:39.656601Z"
    }
   },
   "outputs": [
    {
     "data": {
      "text/plain": [
       "array([   -2,    -2,    -2,    -2,    -2,    -2,    -2,    -2,    -2,\n",
       "          -2,    -2,    -2,    -2,    -2,    -2,    -2,    -2,    -2,\n",
       "          -2,    -2,    -2,    -2,    -2,    -2,    -2,    -2,    -2,\n",
       "          -2,    -2,    -2,    -2,    -2,    -2,    -2,    -2,    -2,\n",
       "          -2,    -2,    -2,    -2,    -2,    -2,    -2,    -2,    -2,\n",
       "          -2,    -2,    -2,    -2,    -2,    -2,    -2,    -2,    -2,\n",
       "          -2,    -2,    -2,    -2,    -2,    -2,    -2,    -2,    -2,\n",
       "          -2,    -2,    -2,    -2,    -2,    -2, 44803, 13593, 47940,\n",
       "       36788, 34153,  9351, 24531, 17572, 13193,  9643, 14300, 28088,\n",
       "       31308, 11587, 28797,  8446, 40548, 34153, 24183, 49253,  6316,\n",
       "       42502, 21165, 46663, 11970, 18782, 11587, 18468, 43340,  6436,\n",
       "       31441,  6530, 45450, 35687, 13593, 47940, 23530, 35695, 32607,\n",
       "       40813, 43570, 48687, 48538, 35695, 32607, 40679, 10450,  8228,\n",
       "       38300, 35258, 14233, 37844,  6436, 17760, 14310, 46274])"
      ]
     },
     "execution_count": 19,
     "metadata": {},
     "output_type": "execute_result"
    }
   ],
   "source": [
    "X_train[0]"
   ]
  },
  {
   "cell_type": "code",
   "execution_count": 20,
   "metadata": {
    "ExecuteTime": {
     "end_time": "2018-11-11T17:54:39.777355Z",
     "start_time": "2018-11-11T17:54:39.664603Z"
    }
   },
   "outputs": [
    {
     "data": {
      "text/plain": [
       "(49999, -2)"
      ]
     },
     "execution_count": 20,
     "metadata": {},
     "output_type": "execute_result"
    }
   ],
   "source": [
    "X_train.max(),X_train.min()"
   ]
  },
  {
   "cell_type": "code",
   "execution_count": null,
   "metadata": {},
   "outputs": [],
   "source": []
  },
  {
   "cell_type": "markdown",
   "metadata": {
    "ExecuteTime": {
     "end_time": "2017-12-17T22:56:28.160230Z",
     "start_time": "2017-12-17T22:56:28.124208Z"
    }
   },
   "source": [
    "## Text Embedding Model"
   ]
  },
  {
   "cell_type": "code",
   "execution_count": 21,
   "metadata": {
    "ExecuteTime": {
     "end_time": "2018-11-11T17:54:39.785355Z",
     "start_time": "2018-11-11T17:54:39.777355Z"
    }
   },
   "outputs": [
    {
     "name": "stdout",
     "output_type": "stream",
     "text": [
      "2 50002\n"
     ]
    }
   ],
   "source": [
    "num_classes = 2\n",
    "V=len(countVectorizer.vocabulary_)+2 # one for unknown words, one for padding\n",
    "print(num_classes,V)\n",
    "E=128\n",
    "F=128\n",
    "hidden1=128"
   ]
  },
  {
   "cell_type": "markdown",
   "metadata": {
    "ExecuteTime": {
     "end_time": "2017-12-29T09:41:15.129928Z",
     "start_time": "2017-12-29T09:41:15.114296Z"
    }
   },
   "source": [
    "## Convolutional Neural Network"
   ]
  },
  {
   "cell_type": "markdown",
   "metadata": {},
   "source": [
    "### Build Dense Neural Network"
   ]
  },
  {
   "cell_type": "code",
   "execution_count": 22,
   "metadata": {
    "ExecuteTime": {
     "end_time": "2018-11-11T17:54:39.801354Z",
     "start_time": "2018-11-11T17:54:39.785355Z"
    }
   },
   "outputs": [],
   "source": [
    "def text_conv_net(W,V,E,F,hidden1):\n",
    "    input1 = keras.layers.Input(shape=(W,))\n",
    "    embedding= keras.layers.Embedding(V,E,input_length=W)(input1)\n",
    "    conv1 = keras.layers.Convolution1D(F,2, padding=\"same\")(embedding)\n",
    "    features1=keras.layers.MaxPooling1D(pool_size=W)(conv1)\n",
    "    conv2 = keras.layers.Convolution1D(F,3, padding=\"same\")(embedding)\n",
    "    features2=keras.layers.MaxPooling1D(pool_size=W)(conv2)\n",
    "    conv3 = keras.layers.Convolution1D(F,4, padding=\"same\")(embedding)\n",
    "    features3=keras.layers.MaxPooling1D(pool_size=W)(conv3)\n",
    "    concat= keras.layers.concatenate([features1,features2,features3])\n",
    "    flat=keras.layers.Flatten()(concat)\n",
    "    drop1=keras.layers.Dropout(0.5)(flat)\n",
    "    dense1=keras.layers.Dense(hidden1, activation=keras.activations.relu)(drop1)\n",
    "    drop2=keras.layers.Dropout(0.5)(dense1)\n",
    "    out = keras.layers.Dense(1,activation=\"sigmoid\")(drop2)\n",
    "    model = keras.models.Model(inputs=[input1], outputs=out)\n",
    "    return model"
   ]
  },
  {
   "cell_type": "code",
   "execution_count": 23,
   "metadata": {
    "ExecuteTime": {
     "end_time": "2018-11-11T17:54:39.957358Z",
     "start_time": "2018-11-11T17:54:39.801354Z"
    }
   },
   "outputs": [],
   "source": [
    "model=text_conv_net(W,V,E,F,hidden1)"
   ]
  },
  {
   "cell_type": "code",
   "execution_count": 24,
   "metadata": {
    "ExecuteTime": {
     "end_time": "2018-11-11T17:54:40.042840Z",
     "start_time": "2018-11-11T17:54:39.957358Z"
    }
   },
   "outputs": [],
   "source": [
    "model.compile(optimizer=tf.train.AdamOptimizer(learning_rate=0.001), \n",
    "              loss='binary_crossentropy',\n",
    "              metrics=['accuracy'])"
   ]
  },
  {
   "cell_type": "code",
   "execution_count": 25,
   "metadata": {
    "ExecuteTime": {
     "end_time": "2018-11-11T17:54:40.056261Z",
     "start_time": "2018-11-11T17:54:40.042840Z"
    }
   },
   "outputs": [
    {
     "name": "stdout",
     "output_type": "stream",
     "text": [
      "__________________________________________________________________________________________________\n",
      "Layer (type)                    Output Shape         Param #     Connected to                     \n",
      "==================================================================================================\n",
      "input_1 (InputLayer)            (None, 125)          0                                            \n",
      "__________________________________________________________________________________________________\n",
      "embedding (Embedding)           (None, 125, 128)     6400256     input_1[0][0]                    \n",
      "__________________________________________________________________________________________________\n",
      "conv1d (Conv1D)                 (None, 125, 128)     32896       embedding[0][0]                  \n",
      "__________________________________________________________________________________________________\n",
      "conv1d_1 (Conv1D)               (None, 125, 128)     49280       embedding[0][0]                  \n",
      "__________________________________________________________________________________________________\n",
      "conv1d_2 (Conv1D)               (None, 125, 128)     65664       embedding[0][0]                  \n",
      "__________________________________________________________________________________________________\n",
      "max_pooling1d (MaxPooling1D)    (None, 1, 128)       0           conv1d[0][0]                     \n",
      "__________________________________________________________________________________________________\n",
      "max_pooling1d_1 (MaxPooling1D)  (None, 1, 128)       0           conv1d_1[0][0]                   \n",
      "__________________________________________________________________________________________________\n",
      "max_pooling1d_2 (MaxPooling1D)  (None, 1, 128)       0           conv1d_2[0][0]                   \n",
      "__________________________________________________________________________________________________\n",
      "concatenate (Concatenate)       (None, 1, 384)       0           max_pooling1d[0][0]              \n",
      "                                                                 max_pooling1d_1[0][0]            \n",
      "                                                                 max_pooling1d_2[0][0]            \n",
      "__________________________________________________________________________________________________\n",
      "flatten (Flatten)               (None, 384)          0           concatenate[0][0]                \n",
      "__________________________________________________________________________________________________\n",
      "dropout (Dropout)               (None, 384)          0           flatten[0][0]                    \n",
      "__________________________________________________________________________________________________\n",
      "dense (Dense)                   (None, 128)          49280       dropout[0][0]                    \n",
      "__________________________________________________________________________________________________\n",
      "dropout_1 (Dropout)             (None, 128)          0           dense[0][0]                      \n",
      "__________________________________________________________________________________________________\n",
      "dense_1 (Dense)                 (None, 1)            129         dropout_1[0][0]                  \n",
      "==================================================================================================\n",
      "Total params: 6,597,505\n",
      "Trainable params: 6,597,505\n",
      "Non-trainable params: 0\n",
      "__________________________________________________________________________________________________\n"
     ]
    }
   ],
   "source": [
    "model.summary()"
   ]
  },
  {
   "cell_type": "code",
   "execution_count": 26,
   "metadata": {
    "ExecuteTime": {
     "end_time": "2018-11-11T17:54:40.064243Z",
     "start_time": "2018-11-11T17:54:40.056261Z"
    }
   },
   "outputs": [
    {
     "data": {
      "text/plain": [
       "(486027, 125)"
      ]
     },
     "execution_count": 26,
     "metadata": {},
     "output_type": "execute_result"
    }
   ],
   "source": [
    "X_train.shape"
   ]
  },
  {
   "cell_type": "code",
   "execution_count": 28,
   "metadata": {
    "ExecuteTime": {
     "end_time": "2018-11-11T18:16:37.520644Z",
     "start_time": "2018-11-11T18:01:08.008460Z"
    }
   },
   "outputs": [
    {
     "name": "stdout",
     "output_type": "stream",
     "text": [
      "Train on 486027 samples, validate on 25581 samples\n",
      "Epoch 1/10\n",
      "486027/486027 [==============================] - 93s 192us/step - loss: 0.2634 - acc: 0.8920 - val_loss: 0.2093 - val_acc: 0.9154\n",
      "Epoch 2/10\n",
      "486027/486027 [==============================] - 93s 191us/step - loss: 0.1841 - acc: 0.9283 - val_loss: 0.1936 - val_acc: 0.9246\n",
      "Epoch 3/10\n",
      "486027/486027 [==============================] - 93s 192us/step - loss: 0.1437 - acc: 0.9450 - val_loss: 0.1884 - val_acc: 0.9282\n",
      "Epoch 4/10\n",
      "486027/486027 [==============================] - 93s 191us/step - loss: 0.1160 - acc: 0.9562 - val_loss: 0.1995 - val_acc: 0.9277\n",
      "Epoch 5/10\n",
      "486027/486027 [==============================] - 93s 191us/step - loss: 0.0956 - acc: 0.9638 - val_loss: 0.2062 - val_acc: 0.9287\n",
      "Epoch 6/10\n",
      "486027/486027 [==============================] - 93s 191us/step - loss: 0.0809 - acc: 0.9696 - val_loss: 0.2421 - val_acc: 0.9274\n",
      "Epoch 7/10\n",
      "486027/486027 [==============================] - 93s 191us/step - loss: 0.0708 - acc: 0.9734 - val_loss: 0.2508 - val_acc: 0.9282\n",
      "Epoch 8/10\n",
      "486027/486027 [==============================] - 93s 191us/step - loss: 0.0619 - acc: 0.9771 - val_loss: 0.2633 - val_acc: 0.9269\n",
      "Epoch 9/10\n",
      "486027/486027 [==============================] - 93s 191us/step - loss: 0.0559 - acc: 0.9793 - val_loss: 0.2719 - val_acc: 0.9269\n",
      "Epoch 10/10\n",
      "486027/486027 [==============================] - 93s 191us/step - loss: 0.0503 - acc: 0.9815 - val_loss: 0.2923 - val_acc: 0.9259\n"
     ]
    },
    {
     "data": {
      "text/plain": [
       "<tensorflow.python.keras.callbacks.History at 0x266196aa358>"
      ]
     },
     "execution_count": 28,
     "metadata": {},
     "output_type": "execute_result"
    }
   ],
   "source": [
    "model.fit(X_train,Y_train,epochs=10,validation_data=(X_val,Y_val),batch_size=100)"
   ]
  },
  {
   "cell_type": "code",
   "execution_count": 29,
   "metadata": {
    "ExecuteTime": {
     "end_time": "2018-11-11T18:16:39.291983Z",
     "start_time": "2018-11-11T18:16:37.520644Z"
    }
   },
   "outputs": [
    {
     "data": {
      "text/plain": [
       "0.9259215824244557"
      ]
     },
     "execution_count": 29,
     "metadata": {},
     "output_type": "execute_result"
    }
   ],
   "source": [
    "Y_pred=(model.predict(X_val)>0.5).ravel()\n",
    "np.mean(Y_pred==Y_val)"
   ]
  },
  {
   "cell_type": "code",
   "execution_count": null,
   "metadata": {},
   "outputs": [],
   "source": []
  },
  {
   "cell_type": "code",
   "execution_count": 30,
   "metadata": {
    "ExecuteTime": {
     "end_time": "2018-11-11T18:16:39.299984Z",
     "start_time": "2018-11-11T18:16:39.291983Z"
    }
   },
   "outputs": [],
   "source": [
    "classes=np.unique(Y_test)"
   ]
  },
  {
   "cell_type": "code",
   "execution_count": 31,
   "metadata": {
    "ExecuteTime": {
     "end_time": "2018-11-11T18:16:39.536716Z",
     "start_time": "2018-11-11T18:16:39.299984Z"
    }
   },
   "outputs": [
    {
     "name": "stdout",
     "output_type": "stream",
     "text": [
      "Confusion matrix, without normalization\n",
      "[[ 4632  1070]\n",
      " [  825 19054]]\n"
     ]
    },
    {
     "data": {
      "image/png": "[encoded data removed]",
      "text/plain": [
       "<Figure size 720x720 with 2 Axes>"
      ]
     },
     "metadata": {},
     "output_type": "display_data"
    }
   ],
   "source": [
    "plt.figure(figsize=(10,10))\n",
    "cnf_matrix = metrics.confusion_matrix(Y_val, Y_pred)\n",
    "np.set_printoptions(precision=2)\n",
    "plots.plot_confusion_matrix(cnf_matrix,classes)"
   ]
  },
  {
   "cell_type": "markdown",
   "metadata": {
    "ExecuteTime": {
     "end_time": "2017-12-17T22:57:20.878364Z",
     "start_time": "2017-12-17T22:57:20.862737Z"
    }
   },
   "source": [
    "### layer size optimization"
   ]
  },
  {
   "cell_type": "code",
   "execution_count": 37,
   "metadata": {
    "ExecuteTime": {
     "end_time": "2018-11-12T09:29:05.440430Z",
     "start_time": "2018-11-12T08:33:20.833865Z"
    }
   },
   "outputs": [
    {
     "name": "stdout",
     "output_type": "stream",
     "text": [
      "Train on 486027 samples, validate on 25581 samples\n",
      "Epoch 1/5\n",
      "486027/486027 [==============================] - 160s 330us/step - loss: 0.2574 - acc: 0.8947 - val_loss: 0.2062 - val_acc: 0.9167\n",
      "Epoch 2/5\n",
      "486027/486027 [==============================] - 155s 318us/step - loss: 0.1766 - acc: 0.9317 - val_loss: 0.1977 - val_acc: 0.9238\n",
      "Epoch 3/5\n",
      "486027/486027 [==============================] - 156s 320us/step - loss: 0.1343 - acc: 0.9490 - val_loss: 0.1928 - val_acc: 0.9262\n",
      "Epoch 4/5\n",
      "486027/486027 [==============================] - 157s 324us/step - loss: 0.1044 - acc: 0.9605 - val_loss: 0.2152 - val_acc: 0.9270\n",
      "Epoch 5/5\n",
      "486027/486027 [==============================] - 158s 325us/step - loss: 0.0840 - acc: 0.9684 - val_loss: 0.2217 - val_acc: 0.9277\n",
      "100 252 512 0.9869040197355291 0.9276807005199171\n",
      "Train on 486027 samples, validate on 25581 samples\n",
      "Epoch 1/5\n",
      "486027/486027 [==============================] - 204s 420us/step - loss: 0.2560 - acc: 0.8953 - val_loss: 0.2032 - val_acc: 0.9178\n",
      "Epoch 2/5\n",
      "486027/486027 [==============================] - 199s 409us/step - loss: 0.1745 - acc: 0.9325 - val_loss: 0.2023 - val_acc: 0.9230\n",
      "Epoch 3/5\n",
      "486027/486027 [==============================] - 199s 410us/step - loss: 0.1300 - acc: 0.9505 - val_loss: 0.1919 - val_acc: 0.9281\n",
      "Epoch 4/5\n",
      "486027/486027 [==============================] - 200s 411us/step - loss: 0.0983 - acc: 0.9629 - val_loss: 0.2178 - val_acc: 0.9284\n",
      "Epoch 5/5\n",
      "486027/486027 [==============================] - 200s 412us/step - loss: 0.0796 - acc: 0.9705 - val_loss: 0.2194 - val_acc: 0.9285\n",
      "200 252 512 0.987817549230804 0.9285407138110316\n",
      "Train on 486027 samples, validate on 25581 samples\n",
      "Epoch 1/5\n",
      "486027/486027 [==============================] - 252s 519us/step - loss: 0.2569 - acc: 0.8950 - val_loss: 0.2041 - val_acc: 0.9195\n",
      "Epoch 2/5\n",
      "486027/486027 [==============================] - 246s 506us/step - loss: 0.1758 - acc: 0.9320 - val_loss: 0.1980 - val_acc: 0.9230\n",
      "Epoch 3/5\n",
      "486027/486027 [==============================] - 246s 506us/step - loss: 0.1304 - acc: 0.9504 - val_loss: 0.1895 - val_acc: 0.9292\n",
      "Epoch 4/5\n",
      "486027/486027 [==============================] - 246s 506us/step - loss: 0.0989 - acc: 0.9631 - val_loss: 0.2099 - val_acc: 0.9287\n",
      "Epoch 5/5\n",
      "486027/486027 [==============================] - 246s 506us/step - loss: 0.0790 - acc: 0.9706 - val_loss: 0.2246 - val_acc: 0.9289\n",
      "300 252 512 0.9883751314227399 0.9289316289433563\n"
     ]
    }
   ],
   "source": [
    "F=252\n",
    "hidden1=512\n",
    "results=[]\n",
    "\n",
    "for E in [100,200,300]:\n",
    "        # Build the Estimator\n",
    "        model=text_conv_net(W,V,E,F,hidden1)\n",
    "        model.compile(optimizer=tf.train.AdamOptimizer(learning_rate=0.001), \n",
    "              loss='binary_crossentropy',\n",
    "              metrics=['accuracy'])\n",
    "        model.fit(X_train,Y_train,epochs=5,validation_data=(X_val,Y_val),batch_size=100)\n",
    "        Y_pred=(model.predict(X_train)>0.5).ravel()\n",
    "        acc_train=np.mean(Y_pred==Y_train)\n",
    "        Y_pred=(model.predict(X_val)>0.5).ravel()\n",
    "        acc_val=np.mean(Y_pred==Y_val)\n",
    "        print(E,F,hidden1,acc_train,acc_val)\n",
    "        results.append((E,F,hidden1,acc_train,acc_val))\n",
    "        "
   ]
  },
  {
   "cell_type": "code",
   "execution_count": 38,
   "metadata": {
    "ExecuteTime": {
     "end_time": "2018-11-12T09:33:43.638792Z",
     "start_time": "2018-11-12T09:33:43.607577Z"
    }
   },
   "outputs": [
    {
     "data": {
      "text/html": [
       "<div>\n",
       "<style scoped>\n",
       "    .dataframe tbody tr th:only-of-type {\n",
       "        vertical-align: middle;\n",
       "    }\n",
       "\n",
       "    .dataframe tbody tr th {\n",
       "        vertical-align: top;\n",
       "    }\n",
       "\n",
       "    .dataframe thead th {\n",
       "        text-align: right;\n",
       "    }\n",
       "</style>\n",
       "<table border=\"1\" class=\"dataframe\">\n",
       "  <thead>\n",
       "    <tr style=\"text-align: right;\">\n",
       "      <th></th>\n",
       "      <th>E</th>\n",
       "      <th>F</th>\n",
       "      <th>layer1</th>\n",
       "      <th>train</th>\n",
       "      <th>valuation</th>\n",
       "    </tr>\n",
       "  </thead>\n",
       "  <tbody>\n",
       "    <tr>\n",
       "      <th>0</th>\n",
       "      <td>100</td>\n",
       "      <td>252</td>\n",
       "      <td>512</td>\n",
       "      <td>0.986904</td>\n",
       "      <td>0.927681</td>\n",
       "    </tr>\n",
       "    <tr>\n",
       "      <th>1</th>\n",
       "      <td>200</td>\n",
       "      <td>252</td>\n",
       "      <td>512</td>\n",
       "      <td>0.987818</td>\n",
       "      <td>0.928541</td>\n",
       "    </tr>\n",
       "    <tr>\n",
       "      <th>2</th>\n",
       "      <td>300</td>\n",
       "      <td>252</td>\n",
       "      <td>512</td>\n",
       "      <td>0.988375</td>\n",
       "      <td>0.928932</td>\n",
       "    </tr>\n",
       "  </tbody>\n",
       "</table>\n",
       "</div>"
      ],
      "text/plain": [
       "     E    F  layer1     train  valuation\n",
       "0  100  252     512  0.986904   0.927681\n",
       "1  200  252     512  0.987818   0.928541\n",
       "2  300  252     512  0.988375   0.928932"
      ]
     },
     "execution_count": 38,
     "metadata": {},
     "output_type": "execute_result"
    }
   ],
   "source": [
    "data=pd.DataFrame(results,columns=[\"E\",\"F\",\"layer1\",\"train\",\"valuation\"])\n",
    "data.head()"
   ]
  },
  {
   "cell_type": "markdown",
   "metadata": {
    "collapsed": true
   },
   "source": [
    "The best model achieves 93% accuracy using a 300 dimensional embedding, 256 (3,4,5) n-grams and and a 512 hidden layer.\n",
    "\n",
    "We could probably do better by increasing model size, but we need to stop somewhere."
   ]
  },
  {
   "cell_type": "markdown",
   "metadata": {
    "ExecuteTime": {
     "end_time": "2017-12-17T22:59:13.144106Z",
     "start_time": "2017-12-17T22:59:13.128480Z"
    }
   },
   "source": [
    "### Test of best model"
   ]
  },
  {
   "cell_type": "code",
   "execution_count": 39,
   "metadata": {
    "ExecuteTime": {
     "end_time": "2018-11-12T09:33:50.392060Z",
     "start_time": "2018-11-12T09:33:50.275439Z"
    }
   },
   "outputs": [
    {
     "name": "stdout",
     "output_type": "stream",
     "text": [
      "(511608, 125) (511608,)\n"
     ]
    }
   ],
   "source": [
    "X=np.concatenate([X_train,X_val])\n",
    "Y=np.concatenate([Y_train,Y_val])\n",
    "print(X.shape,Y.shape)"
   ]
  },
  {
   "cell_type": "code",
   "execution_count": 40,
   "metadata": {
    "ExecuteTime": {
     "end_time": "2018-11-12T09:33:51.094461Z",
     "start_time": "2018-11-12T09:33:51.078857Z"
    }
   },
   "outputs": [],
   "source": [
    "best_E=300\n",
    "F=256\n",
    "best_hidden_layer=512"
   ]
  },
  {
   "cell_type": "code",
   "execution_count": 43,
   "metadata": {
    "ExecuteTime": {
     "end_time": "2018-11-12T09:34:17.621379Z",
     "start_time": "2018-11-12T09:34:17.418302Z"
    }
   },
   "outputs": [],
   "source": [
    "# Build the Estimator\n",
    "model=text_conv_net(W,V,best_E,F,best_hidden_layer)\n",
    "model.compile(optimizer=tf.train.AdamOptimizer(learning_rate=0.001), \n",
    "              loss='binary_crossentropy',\n",
    "              metrics=['accuracy'])"
   ]
  },
  {
   "cell_type": "code",
   "execution_count": 44,
   "metadata": {
    "ExecuteTime": {
     "end_time": "2018-11-12T09:34:19.117074Z",
     "start_time": "2018-11-12T09:34:19.085807Z"
    }
   },
   "outputs": [
    {
     "name": "stdout",
     "output_type": "stream",
     "text": [
      "__________________________________________________________________________________________________\n",
      "Layer (type)                    Output Shape         Param #     Connected to                     \n",
      "==================================================================================================\n",
      "input_48 (InputLayer)           (None, 125)          0                                            \n",
      "__________________________________________________________________________________________________\n",
      "embedding_47 (Embedding)        (None, 125, 300)     15000600    input_48[0][0]                   \n",
      "__________________________________________________________________________________________________\n",
      "conv1d_141 (Conv1D)             (None, 125, 256)     153856      embedding_47[0][0]               \n",
      "__________________________________________________________________________________________________\n",
      "conv1d_142 (Conv1D)             (None, 125, 256)     230656      embedding_47[0][0]               \n",
      "__________________________________________________________________________________________________\n",
      "conv1d_143 (Conv1D)             (None, 125, 256)     307456      embedding_47[0][0]               \n",
      "__________________________________________________________________________________________________\n",
      "max_pooling1d_141 (MaxPooling1D (None, 1, 256)       0           conv1d_141[0][0]                 \n",
      "__________________________________________________________________________________________________\n",
      "max_pooling1d_142 (MaxPooling1D (None, 1, 256)       0           conv1d_142[0][0]                 \n",
      "__________________________________________________________________________________________________\n",
      "max_pooling1d_143 (MaxPooling1D (None, 1, 256)       0           conv1d_143[0][0]                 \n",
      "__________________________________________________________________________________________________\n",
      "concatenate_47 (Concatenate)    (None, 1, 768)       0           max_pooling1d_141[0][0]          \n",
      "                                                                 max_pooling1d_142[0][0]          \n",
      "                                                                 max_pooling1d_143[0][0]          \n",
      "__________________________________________________________________________________________________\n",
      "flatten_47 (Flatten)            (None, 768)          0           concatenate_47[0][0]             \n",
      "__________________________________________________________________________________________________\n",
      "dropout_94 (Dropout)            (None, 768)          0           flatten_47[0][0]                 \n",
      "__________________________________________________________________________________________________\n",
      "dense_94 (Dense)                (None, 512)          393728      dropout_94[0][0]                 \n",
      "__________________________________________________________________________________________________\n",
      "dropout_95 (Dropout)            (None, 512)          0           dense_94[0][0]                   \n",
      "__________________________________________________________________________________________________\n",
      "dense_95 (Dense)                (None, 1)            513         dropout_95[0][0]                 \n",
      "==================================================================================================\n",
      "Total params: 16,086,809\n",
      "Trainable params: 16,086,809\n",
      "Non-trainable params: 0\n",
      "__________________________________________________________________________________________________\n"
     ]
    }
   ],
   "source": [
    "model.summary()"
   ]
  },
  {
   "cell_type": "markdown",
   "metadata": {},
   "source": [
    "This model is a **very large** so fitting takes a while"
   ]
  },
  {
   "cell_type": "code",
   "execution_count": 46,
   "metadata": {
    "ExecuteTime": {
     "end_time": "2018-11-12T09:57:03.247081Z",
     "start_time": "2018-11-12T09:35:02.829650Z"
    }
   },
   "outputs": [
    {
     "name": "stdout",
     "output_type": "stream",
     "text": [
      "Train on 511608 samples, validate on 56846 samples\n",
      "Epoch 1/5\n",
      "511608/511608 [==============================] - 263s 515us/step - loss: 0.2508 - acc: 0.8977 - val_loss: 0.1983 - val_acc: 0.9219\n",
      "Epoch 2/5\n",
      "511608/511608 [==============================] - 264s 517us/step - loss: 0.1729 - acc: 0.9333 - val_loss: 0.1828 - val_acc: 0.9283\n",
      "Epoch 3/5\n",
      "511608/511608 [==============================] - 264s 516us/step - loss: 0.1286 - acc: 0.9513 - val_loss: 0.1905 - val_acc: 0.9305\n",
      "Epoch 4/5\n",
      "511608/511608 [==============================] - 265s 517us/step - loss: 0.0982 - acc: 0.9632 - val_loss: 0.2048 - val_acc: 0.9323\n",
      "Epoch 5/5\n",
      "511608/511608 [==============================] - 264s 516us/step - loss: 0.0790 - acc: 0.9706 - val_loss: 0.2062 - val_acc: 0.9326\n"
     ]
    },
    {
     "data": {
      "text/plain": [
       "<tensorflow.python.keras.callbacks.History at 0x2684be832e8>"
      ]
     },
     "execution_count": 46,
     "metadata": {},
     "output_type": "execute_result"
    }
   ],
   "source": [
    "model.fit(X,Y,epochs=5,validation_data=(X_test,Y_test),batch_size=100)"
   ]
  },
  {
   "cell_type": "code",
   "execution_count": 47,
   "metadata": {
    "ExecuteTime": {
     "end_time": "2018-11-12T09:57:18.616443Z",
     "start_time": "2018-11-12T09:57:03.247081Z"
    }
   },
   "outputs": [
    {
     "data": {
      "text/plain": [
       "0.9325898040319459"
      ]
     },
     "execution_count": 47,
     "metadata": {},
     "output_type": "execute_result"
    }
   ],
   "source": [
    "Y_pred=(model.predict(X_test)>0.5).ravel()\n",
    "np.mean(Y_pred==Y_test)"
   ]
  },
  {
   "cell_type": "markdown",
   "metadata": {},
   "source": [
    "So we achieve 93.2% accuracy on the test set"
   ]
  },
  {
   "cell_type": "code",
   "execution_count": null,
   "metadata": {},
   "outputs": [],
   "source": []
  },
  {
   "cell_type": "code",
   "execution_count": null,
   "metadata": {},
   "outputs": [],
   "source": []
  }
 ],
 "metadata": {
  "kernelspec": {
   "display_name": "Python 3",
   "language": "python",
   "name": "python3"
  },
  "language_info": {
   "codemirror_mode": {
    "name": "ipython",
    "version": 3
   },
   "file_extension": ".py",
   "mimetype": "text/x-python",
   "name": "python",
   "nbconvert_exporter": "python",
   "pygments_lexer": "ipython3",
   "version": "3.6.5"
  },
  "toc": {
   "base_numbering": 1,
   "nav_menu": {},
   "number_sections": true,
   "sideBar": true,
   "skip_h1_title": true,
   "title_cell": "Table of Contents",
   "title_sidebar": "Contents",
   "toc_cell": false,
   "toc_position": {},
   "toc_section_display": "block",
   "toc_window_display": true
  }
 },
 "nbformat": 4,
 "nbformat_minor": 2
}
