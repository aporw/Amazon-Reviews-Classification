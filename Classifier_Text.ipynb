{
 "cells": [
  {
   "cell_type": "markdown",
   "metadata": {},
   "source": [
    "# Using LDA and Logistic Regression Classifiers with Text"
   ]
  },
  {
   "cell_type": "markdown",
   "metadata": {},
   "source": [
    "In this notebook we will apply `LogisticRegression` to our text classification\n",
    "problem.\n",
    "\n",
    "As the bag of words representation of a document is high dimensional we will use $\\chi^2$ feature selection to select a subspace of a manageable dimension. \n"
   ]
  },
  {
   "cell_type": "markdown",
   "metadata": {},
   "source": [
    "## Preliminaries"
   ]
  },
  {
   "cell_type": "markdown",
   "metadata": {},
   "source": [
    "### Imports"
   ]
  },
  {
   "cell_type": "code",
   "execution_count": 1,
   "metadata": {
    "ExecuteTime": {
     "end_time": "2018-02-21T19:07:44.881866Z",
     "start_time": "2018-02-21T19:07:32.859738Z"
    }
   },
   "outputs": [],
   "source": [
    "import pickle\n",
    "\n",
    "import numpy as np\n",
    "import pandas as pd\n",
    "import matplotlib.pyplot as plt\n",
    "\n",
    "from sklearn.feature_extraction.text import CountVectorizer,TfidfVectorizer\n",
    "\n",
    "from sklearn import metrics\n",
    "from sklearn.feature_selection import SelectKBest, chi2\n",
    "from sklearn.model_selection import train_test_split,KFold\n",
    "from sklearn.preprocessing import LabelEncoder, OneHotEncoder\n",
    "from sklearn.linear_model import LogisticRegression\n",
    "\n",
    "from sklearn.discriminant_analysis import LinearDiscriminantAnalysis\n",
    "\n",
    "# for a progress bar on slow calculations\n",
    "from ipywidgets import IntProgress\n",
    "from IPython.display import display\n",
    "\n",
    "import sys\n",
    "sys.path.append(\"../..\")\n",
    "from E4525_ML import plots\n",
    "import E4525_ML.text as text\n",
    "from E4525_ML.multiclass_logistic import LogisticGDClassifier\n",
    "%matplotlib inline\n",
    "plt.rcParams['figure.figsize'] = (8.0, 6.0) # set default size of plots"
   ]
  },
  {
   "cell_type": "code",
   "execution_count": 2,
   "metadata": {
    "ExecuteTime": {
     "end_time": "2018-02-21T19:07:44.889867Z",
     "start_time": "2018-02-21T19:07:44.882866Z"
    }
   },
   "outputs": [],
   "source": [
    "seed=23\n",
    "np.random.seed(seed)"
   ]
  },
  {
   "cell_type": "markdown",
   "metadata": {},
   "source": [
    "### Data"
   ]
  },
  {
   "cell_type": "markdown",
   "metadata": {},
   "source": [
    "#### Data Directories"
   ]
  },
  {
   "cell_type": "code",
   "execution_count": 3,
   "metadata": {
    "ExecuteTime": {
     "end_time": "2018-02-21T19:07:44.952072Z",
     "start_time": "2018-02-21T19:07:44.890867Z"
    }
   },
   "outputs": [],
   "source": [
    "raw_data_dir=r\"../../raw/C50/C50train\"\n",
    "test_dir    =r\"../../raw/C50/C50test\"\n",
    "data_dir=r\"../../data/C50\"\n"
   ]
  },
  {
   "cell_type": "markdown",
   "metadata": {},
   "source": [
    "#### Corpus"
   ]
  },
  {
   "cell_type": "code",
   "execution_count": 4,
   "metadata": {
    "ExecuteTime": {
     "end_time": "2018-02-21T19:07:44.982076Z",
     "start_time": "2018-02-21T19:07:44.954073Z"
    }
   },
   "outputs": [
    {
     "data": {
      "text/html": [
       "<div>\n",
       "<style scoped>\n",
       "    .dataframe tbody tr th:only-of-type {\n",
       "        vertical-align: middle;\n",
       "    }\n",
       "\n",
       "    .dataframe tbody tr th {\n",
       "        vertical-align: top;\n",
       "    }\n",
       "\n",
       "    .dataframe thead th {\n",
       "        text-align: right;\n",
       "    }\n",
       "</style>\n",
       "<table border=\"1\" class=\"dataframe\">\n",
       "  <thead>\n",
       "    <tr style=\"text-align: right;\">\n",
       "      <th></th>\n",
       "      <th>filename</th>\n",
       "      <th>label</th>\n",
       "    </tr>\n",
       "    <tr>\n",
       "      <th>document_id</th>\n",
       "      <th></th>\n",
       "      <th></th>\n",
       "    </tr>\n",
       "  </thead>\n",
       "  <tbody>\n",
       "    <tr>\n",
       "      <th>0</th>\n",
       "      <td>../../raw/C50/C50train/ScottHillis/253868newsM...</td>\n",
       "      <td>ScottHillis</td>\n",
       "    </tr>\n",
       "    <tr>\n",
       "      <th>1</th>\n",
       "      <td>../../raw/C50/C50train/ScottHillis/305692newsM...</td>\n",
       "      <td>ScottHillis</td>\n",
       "    </tr>\n",
       "    <tr>\n",
       "      <th>2</th>\n",
       "      <td>../../raw/C50/C50train/ScottHillis/340736newsM...</td>\n",
       "      <td>ScottHillis</td>\n",
       "    </tr>\n",
       "    <tr>\n",
       "      <th>3</th>\n",
       "      <td>../../raw/C50/C50train/ScottHillis/140340newsM...</td>\n",
       "      <td>ScottHillis</td>\n",
       "    </tr>\n",
       "    <tr>\n",
       "      <th>4</th>\n",
       "      <td>../../raw/C50/C50train/ScottHillis/126593newsM...</td>\n",
       "      <td>ScottHillis</td>\n",
       "    </tr>\n",
       "  </tbody>\n",
       "</table>\n",
       "</div>"
      ],
      "text/plain": [
       "                                                      filename        label\n",
       "document_id                                                                \n",
       "0            ../../raw/C50/C50train/ScottHillis/253868newsM...  ScottHillis\n",
       "1            ../../raw/C50/C50train/ScottHillis/305692newsM...  ScottHillis\n",
       "2            ../../raw/C50/C50train/ScottHillis/340736newsM...  ScottHillis\n",
       "3            ../../raw/C50/C50train/ScottHillis/140340newsM...  ScottHillis\n",
       "4            ../../raw/C50/C50train/ScottHillis/126593newsM...  ScottHillis"
      ]
     },
     "execution_count": 4,
     "metadata": {},
     "output_type": "execute_result"
    }
   ],
   "source": [
    "documents_filename=data_dir+\"/C50_documents.csv\"\n",
    "documents=pd.read_csv(documents_filename,index_col=\"document_id\")\n",
    "documents.head()"
   ]
  },
  {
   "cell_type": "code",
   "execution_count": 5,
   "metadata": {
    "ExecuteTime": {
     "end_time": "2018-02-21T19:07:45.000077Z",
     "start_time": "2018-02-21T19:07:44.982076Z"
    },
    "scrolled": true
   },
   "outputs": [
    {
     "data": {
      "text/html": [
       "<div>\n",
       "<style scoped>\n",
       "    .dataframe tbody tr th:only-of-type {\n",
       "        vertical-align: middle;\n",
       "    }\n",
       "\n",
       "    .dataframe tbody tr th {\n",
       "        vertical-align: top;\n",
       "    }\n",
       "\n",
       "    .dataframe thead th {\n",
       "        text-align: right;\n",
       "    }\n",
       "</style>\n",
       "<table border=\"1\" class=\"dataframe\">\n",
       "  <thead>\n",
       "    <tr style=\"text-align: right;\">\n",
       "      <th></th>\n",
       "      <th>filename</th>\n",
       "      <th>label</th>\n",
       "    </tr>\n",
       "    <tr>\n",
       "      <th>document_id</th>\n",
       "      <th></th>\n",
       "      <th></th>\n",
       "    </tr>\n",
       "  </thead>\n",
       "  <tbody>\n",
       "    <tr>\n",
       "      <th>0</th>\n",
       "      <td>../../raw/C50/C50test/ScottHillis/373999newsML...</td>\n",
       "      <td>ScottHillis</td>\n",
       "    </tr>\n",
       "    <tr>\n",
       "      <th>1</th>\n",
       "      <td>../../raw/C50/C50test/ScottHillis/348602newsML...</td>\n",
       "      <td>ScottHillis</td>\n",
       "    </tr>\n",
       "    <tr>\n",
       "      <th>2</th>\n",
       "      <td>../../raw/C50/C50test/ScottHillis/387913newsML...</td>\n",
       "      <td>ScottHillis</td>\n",
       "    </tr>\n",
       "    <tr>\n",
       "      <th>3</th>\n",
       "      <td>../../raw/C50/C50test/ScottHillis/392527newsML...</td>\n",
       "      <td>ScottHillis</td>\n",
       "    </tr>\n",
       "    <tr>\n",
       "      <th>4</th>\n",
       "      <td>../../raw/C50/C50test/ScottHillis/417664newsML...</td>\n",
       "      <td>ScottHillis</td>\n",
       "    </tr>\n",
       "  </tbody>\n",
       "</table>\n",
       "</div>"
      ],
      "text/plain": [
       "                                                      filename        label\n",
       "document_id                                                                \n",
       "0            ../../raw/C50/C50test/ScottHillis/373999newsML...  ScottHillis\n",
       "1            ../../raw/C50/C50test/ScottHillis/348602newsML...  ScottHillis\n",
       "2            ../../raw/C50/C50test/ScottHillis/387913newsML...  ScottHillis\n",
       "3            ../../raw/C50/C50test/ScottHillis/392527newsML...  ScottHillis\n",
       "4            ../../raw/C50/C50test/ScottHillis/417664newsML...  ScottHillis"
      ]
     },
     "execution_count": 5,
     "metadata": {},
     "output_type": "execute_result"
    }
   ],
   "source": [
    "test_documents_filename=data_dir+\"/C50_test_documents.csv\"\n",
    "test_documents=pd.read_csv(test_documents_filename,index_col=\"document_id\")\n",
    "test_documents.head()"
   ]
  },
  {
   "cell_type": "code",
   "execution_count": 6,
   "metadata": {
    "ExecuteTime": {
     "end_time": "2018-02-21T19:07:45.014079Z",
     "start_time": "2018-02-21T19:07:45.001077Z"
    }
   },
   "outputs": [],
   "source": [
    "scramble=True"
   ]
  },
  {
   "cell_type": "code",
   "execution_count": 7,
   "metadata": {
    "ExecuteTime": {
     "end_time": "2018-02-21T19:07:45.059083Z",
     "start_time": "2018-02-21T19:07:45.016079Z"
    }
   },
   "outputs": [
    {
     "name": "stdout",
     "output_type": "stream",
     "text": [
      "all_docs.shape (5000, 2)\n",
      "(2584, 2) (2416, 2)\n"
     ]
    }
   ],
   "source": [
    "if scramble:\n",
    "    all_docs=pd.concat([documents,test_documents])\n",
    "    print(\"all_docs.shape\",all_docs.shape)\n",
    "    msk=np.random.rand(len(all_docs))<0.5\n",
    "    documents=all_docs[msk]\n",
    "    test_documents=all_docs[~msk]\n",
    "    print(documents.shape,test_documents.shape)"
   ]
  },
  {
   "cell_type": "code",
   "execution_count": null,
   "metadata": {},
   "outputs": [],
   "source": []
  },
  {
   "cell_type": "markdown",
   "metadata": {},
   "source": [
    "\n",
    "## Validation Set Creation"
   ]
  },
  {
   "cell_type": "code",
   "execution_count": 8,
   "metadata": {
    "ExecuteTime": {
     "end_time": "2018-02-21T19:07:45.079085Z",
     "start_time": "2018-02-21T19:07:45.065084Z"
    }
   },
   "outputs": [],
   "source": [
    "docs_train,docs_val,Y_train,Y_val=train_test_split(documents[\"filename\"],documents[\"label\"],test_size=0.2)"
   ]
  },
  {
   "cell_type": "code",
   "execution_count": 9,
   "metadata": {
    "ExecuteTime": {
     "end_time": "2018-02-21T19:07:45.099087Z",
     "start_time": "2018-02-21T19:07:45.080086Z"
    }
   },
   "outputs": [],
   "source": [
    "countVectorizer=CountVectorizer(input=\"filename\",\n",
    "                                       binary=True,\n",
    "                                       tokenizer=text.stem_tokenizer,\n",
    "                                       stop_words=[]) #text.stop_words())"
   ]
  },
  {
   "cell_type": "markdown",
   "metadata": {},
   "source": [
    "## Select More important Features"
   ]
  },
  {
   "cell_type": "code",
   "execution_count": 11,
   "metadata": {
    "ExecuteTime": {
     "end_time": "2018-02-21T19:07:45.142092Z",
     "start_time": "2018-02-21T19:07:45.123090Z"
    }
   },
   "outputs": [],
   "source": [
    "F=1000"
   ]
  },
  {
   "cell_type": "code",
   "execution_count": 12,
   "metadata": {
    "ExecuteTime": {
     "end_time": "2018-02-21T19:08:07.779623Z",
     "start_time": "2018-02-21T19:07:45.144092Z"
    }
   },
   "outputs": [],
   "source": [
    "X=countVectorizer.fit_transform(docs_train)\n",
    "Y=Y_train"
   ]
  },
  {
   "cell_type": "code",
   "execution_count": 13,
   "metadata": {
    "ExecuteTime": {
     "end_time": "2018-02-21T19:08:07.785623Z",
     "start_time": "2018-02-21T19:08:07.781623Z"
    }
   },
   "outputs": [
    {
     "data": {
      "text/plain": [
       "27475"
      ]
     },
     "execution_count": 13,
     "metadata": {},
     "output_type": "execute_result"
    }
   ],
   "source": [
    "V=X.shape[1]\n",
    "V"
   ]
  },
  {
   "cell_type": "code",
   "execution_count": 14,
   "metadata": {
    "ExecuteTime": {
     "end_time": "2018-02-21T19:08:07.845229Z",
     "start_time": "2018-02-21T19:08:07.786623Z"
    }
   },
   "outputs": [],
   "source": [
    "dummies=pd.get_dummies(Y,prefix=\"\",prefix_sep=\"\",sparse=True)\n",
    "labels=dummies.columns\n",
    "Z=dummies"
   ]
  },
  {
   "cell_type": "code",
   "execution_count": 15,
   "metadata": {
    "ExecuteTime": {
     "end_time": "2018-02-21T19:08:07.850230Z",
     "start_time": "2018-02-21T19:08:07.847229Z"
    }
   },
   "outputs": [],
   "source": [
    "transformer=SelectKBest(chi2,F) # get the best F based on chi2 metric"
   ]
  },
  {
   "cell_type": "code",
   "execution_count": 16,
   "metadata": {
    "ExecuteTime": {
     "end_time": "2018-02-21T19:08:07.984243Z",
     "start_time": "2018-02-21T19:08:07.852230Z"
    }
   },
   "outputs": [],
   "source": [
    "Xt=transformer.fit_transform(X,Z) # Return X with only the selected features"
   ]
  },
  {
   "cell_type": "code",
   "execution_count": 17,
   "metadata": {
    "ExecuteTime": {
     "end_time": "2018-02-21T19:08:07.991244Z",
     "start_time": "2018-02-21T19:08:07.985243Z"
    }
   },
   "outputs": [],
   "source": [
    "feature_idx=transformer.get_support(True)"
   ]
  },
  {
   "cell_type": "code",
   "execution_count": 18,
   "metadata": {
    "ExecuteTime": {
     "end_time": "2018-02-21T19:08:08.026248Z",
     "start_time": "2018-02-21T19:08:07.992244Z"
    }
   },
   "outputs": [],
   "source": [
    "index_2_word=countVectorizer.get_feature_names()"
   ]
  },
  {
   "cell_type": "code",
   "execution_count": 19,
   "metadata": {
    "ExecuteTime": {
     "end_time": "2018-02-21T19:08:08.049250Z",
     "start_time": "2018-02-21T19:08:08.027248Z"
    }
   },
   "outputs": [
    {
     "name": "stdout",
     "output_type": "stream",
     "text": [
      "27328 yorkshir\n",
      "27334 yoshinobu\n",
      "27348 yuan\n",
      "27359 yukon\n",
      "27366 yuri\n",
      "27369 yve\n",
      "27394 zealand\n",
      "27396 zedong\n",
      "27400 zemin\n",
      "27443 zinc\n"
     ]
    }
   ],
   "source": [
    "for idx in feature_idx[-10:]:\n",
    "    print(idx,index_2_word[idx])"
   ]
  },
  {
   "cell_type": "markdown",
   "metadata": {},
   "source": [
    "## LDA Text Classifier"
   ]
  },
  {
   "cell_type": "markdown",
   "metadata": {},
   "source": [
    "### Train LDA Model"
   ]
  },
  {
   "cell_type": "code",
   "execution_count": 20,
   "metadata": {
    "ExecuteTime": {
     "end_time": "2018-02-21T19:08:08.067252Z",
     "start_time": "2018-02-21T19:08:08.051250Z"
    }
   },
   "outputs": [],
   "source": [
    "model=LinearDiscriminantAnalysis()"
   ]
  },
  {
   "cell_type": "code",
   "execution_count": 21,
   "metadata": {
    "ExecuteTime": {
     "end_time": "2018-02-21T19:08:08.592306Z",
     "start_time": "2018-02-21T19:08:08.068252Z"
    }
   },
   "outputs": [
    {
     "name": "stderr",
     "output_type": "stream",
     "text": [
      "/home/manel/anaconda3/lib/python3.6/site-packages/sklearn/discriminant_analysis.py:388: UserWarning: Variables are collinear.\n",
      "  warnings.warn(\"Variables are collinear.\")\n"
     ]
    },
    {
     "data": {
      "text/plain": [
       "LinearDiscriminantAnalysis(n_components=None, priors=None, shrinkage=None,\n",
       "              solver='svd', store_covariance=False, tol=0.0001)"
      ]
     },
     "execution_count": 21,
     "metadata": {},
     "output_type": "execute_result"
    }
   ],
   "source": [
    "model.fit(Xt.toarray(),Y)"
   ]
  },
  {
   "cell_type": "markdown",
   "metadata": {},
   "source": [
    "We nearly fit the train data perfectly, are we overfitting?"
   ]
  },
  {
   "cell_type": "code",
   "execution_count": 22,
   "metadata": {
    "ExecuteTime": {
     "end_time": "2018-02-21T19:08:08.604307Z",
     "start_time": "2018-02-21T19:08:08.594306Z"
    }
   },
   "outputs": [
    {
     "data": {
      "text/plain": [
       "0.9840348330914369"
      ]
     },
     "execution_count": 22,
     "metadata": {},
     "output_type": "execute_result"
    }
   ],
   "source": [
    "Y_pred=model.predict(Xt)\n",
    "np.mean(Y_pred==Y)"
   ]
  },
  {
   "cell_type": "markdown",
   "metadata": {},
   "source": [
    "### Validate LDA Model"
   ]
  },
  {
   "cell_type": "code",
   "execution_count": 23,
   "metadata": {
    "ExecuteTime": {
     "end_time": "2018-02-21T19:08:14.330646Z",
     "start_time": "2018-02-21T19:08:08.605307Z"
    }
   },
   "outputs": [],
   "source": [
    "X_val=countVectorizer.transform(docs_val)\n",
    "Xt_val=transformer.transform(X_val)"
   ]
  },
  {
   "cell_type": "markdown",
   "metadata": {},
   "source": [
    "Close performance is worse than Naive Bayes.\n"
   ]
  },
  {
   "cell_type": "code",
   "execution_count": 24,
   "metadata": {
    "ExecuteTime": {
     "end_time": "2018-02-21T19:08:14.338647Z",
     "start_time": "2018-02-21T19:08:14.332646Z"
    }
   },
   "outputs": [
    {
     "data": {
      "text/plain": [
       "0.6479690522243714"
      ]
     },
     "execution_count": 24,
     "metadata": {},
     "output_type": "execute_result"
    }
   ],
   "source": [
    "Y_pred=model.predict(Xt_val)\n",
    "np.mean(Y_pred==Y_val)"
   ]
  },
  {
   "cell_type": "markdown",
   "metadata": {},
   "source": [
    "## Generic Text Classifier with Feature Selection"
   ]
  },
  {
   "cell_type": "markdown",
   "metadata": {},
   "source": [
    "Selection $F$ features base of a $\\chi^2$ test makes sense for any classifier.\n",
    "\n",
    "For convenience we create a new wrapper classifier that selects $F$ features and calls the underlying\n",
    "classier with them."
   ]
  },
  {
   "cell_type": "code",
   "execution_count": 25,
   "metadata": {
    "ExecuteTime": {
     "end_time": "2018-02-21T19:08:14.360649Z",
     "start_time": "2018-02-21T19:08:14.340647Z"
    }
   },
   "outputs": [],
   "source": [
    "class TextChi2Classifier:\n",
    "    def __init__(self,F,model):\n",
    "        self.model=model\n",
    "        self.transformer=SelectKBest(chi2,F)\n",
    "    def fit(self,X,Y):\n",
    "        dummies=pd.get_dummies(Y,prefix=\"\",prefix_sep=\"\",sparse=True)\n",
    "        Z=dummies\n",
    "        Xt=self.transformer.fit_transform(X,Z)\n",
    "        self.model.fit(Xt,Y)\n",
    "        return self\n",
    "    def predict(self,X):\n",
    "        Xt=self.transformer.transform(X)\n",
    "        return self.model.predict(Xt)"
   ]
  },
  {
   "cell_type": "code",
   "execution_count": 26,
   "metadata": {
    "ExecuteTime": {
     "end_time": "2018-02-21T19:08:14.375651Z",
     "start_time": "2018-02-21T19:08:14.360649Z"
    }
   },
   "outputs": [],
   "source": [
    "modelT=TextChi2Classifier(F,model)"
   ]
  },
  {
   "cell_type": "code",
   "execution_count": 27,
   "metadata": {
    "ExecuteTime": {
     "end_time": "2018-02-21T19:08:44.833915Z",
     "start_time": "2018-02-21T19:08:14.377651Z"
    }
   },
   "outputs": [
    {
     "name": "stderr",
     "output_type": "stream",
     "text": [
      "/home/manel/anaconda3/lib/python3.6/site-packages/sklearn/discriminant_analysis.py:388: UserWarning: Variables are collinear.\n",
      "  warnings.warn(\"Variables are collinear.\")\n"
     ]
    },
    {
     "data": {
      "text/plain": [
       "<__main__.TextChi2Classifier at 0x7fb7d668f898>"
      ]
     },
     "execution_count": 27,
     "metadata": {},
     "output_type": "execute_result"
    }
   ],
   "source": [
    "modelT.fit(X.toarray(),Y)"
   ]
  },
  {
   "cell_type": "markdown",
   "metadata": {},
   "source": [
    "We check that we still get the same answer as before"
   ]
  },
  {
   "cell_type": "code",
   "execution_count": 28,
   "metadata": {
    "ExecuteTime": {
     "end_time": "2018-02-21T19:08:44.846917Z",
     "start_time": "2018-02-21T19:08:44.834915Z"
    }
   },
   "outputs": [
    {
     "data": {
      "text/plain": [
       "0.6479690522243714"
      ]
     },
     "execution_count": 28,
     "metadata": {},
     "output_type": "execute_result"
    }
   ],
   "source": [
    "Y_pred=modelT.predict(X_val)\n",
    "np.mean(Y_pred==Y_val)"
   ]
  },
  {
   "cell_type": "markdown",
   "metadata": {},
   "source": [
    "## LDA Classifier vs Number of Features "
   ]
  },
  {
   "cell_type": "markdown",
   "metadata": {},
   "source": [
    "With our new classifier is easy to test how well LDA does a a function of the number of features."
   ]
  },
  {
   "cell_type": "code",
   "execution_count": 29,
   "metadata": {
    "ExecuteTime": {
     "end_time": "2018-02-21T19:08:44.860918Z",
     "start_time": "2018-02-21T19:08:44.847917Z"
    }
   },
   "outputs": [],
   "source": [
    "lda_base_model=LinearDiscriminantAnalysis()\n"
   ]
  },
  {
   "cell_type": "code",
   "execution_count": 30,
   "metadata": {
    "ExecuteTime": {
     "end_time": "2018-02-21T19:08:44.877920Z",
     "start_time": "2018-02-21T19:08:44.860918Z"
    }
   },
   "outputs": [],
   "source": [
    "Fs=[100,200,300,500,1000,2000,3000,5000,10000,20000,V]\n",
    "#Fs=[10,20]"
   ]
  },
  {
   "cell_type": "code",
   "execution_count": 31,
   "metadata": {
    "ExecuteTime": {
     "end_time": "2018-02-21T19:15:17.059200Z",
     "start_time": "2018-02-21T19:08:44.878920Z"
    }
   },
   "outputs": [
    {
     "data": {
      "application/vnd.jupyter.widget-view+json": {
       "model_id": "176a93be1b44455f8876884848c7d13f",
       "version_major": 2,
       "version_minor": 0
      },
      "text/html": [
       "<p>Failed to display Jupyter Widget of type <code>IntProgress</code>.</p>\n",
       "<p>\n",
       "  If you're reading this message in the Jupyter Notebook or JupyterLab Notebook, it may mean\n",
       "  that the widgets JavaScript is still loading. If this message persists, it\n",
       "  likely means that the widgets JavaScript library is either not installed or\n",
       "  not enabled. See the <a href=\"https://ipywidgets.readthedocs.io/en/stable/user_install.html\">Jupyter\n",
       "  Widgets Documentation</a> for setup instructions.\n",
       "</p>\n",
       "<p>\n",
       "  If you're reading this message in another frontend (for example, a static\n",
       "  rendering on GitHub or <a href=\"https://nbviewer.jupyter.org/\">NBViewer</a>),\n",
       "  it may mean that your frontend doesn't currently support widgets.\n",
       "</p>\n"
      ],
      "text/plain": [
       "IntProgress(value=0, bar_style='info', description='Trials:', max=11)"
      ]
     },
     "metadata": {},
     "output_type": "display_data"
    },
    {
     "name": "stderr",
     "output_type": "stream",
     "text": [
      "/home/manel/anaconda3/lib/python3.6/site-packages/sklearn/discriminant_analysis.py:388: UserWarning: Variables are collinear.\n",
      "  warnings.warn(\"Variables are collinear.\")\n"
     ]
    },
    {
     "name": "stdout",
     "output_type": "stream",
     "text": [
      "Done.\n"
     ]
    }
   ],
   "source": [
    "# Display a progress bar that counts how many training rounds we have done so far\n",
    "progress= IntProgress(min=0, max=len(Fs),description=\"Trials:\",bar_style=\"info\")\n",
    "display(progress)\n",
    "\n",
    "\n",
    "lda_train_error=[]\n",
    "lda_val_error=[]\n",
    "lda_models=[]\n",
    "progress.value=0\n",
    "for F in Fs:\n",
    "    model=TextChi2Classifier(F,lda_base_model)\n",
    "    model.fit(X.toarray(),Y)\n",
    "    lda_models.append(model)\n",
    "    Y_pred=model.predict(X)\n",
    "    lda_train_error.append(1-np.mean(Y_pred==Y))\n",
    "    Y_pred=model.predict(X_val)\n",
    "    lda_val_error.append(1-np.mean(Y_pred==Y_val))\n",
    "    progress.value+=1\n",
    "print(\"Done.\")"
   ]
  },
  {
   "cell_type": "code",
   "execution_count": 32,
   "metadata": {
    "ExecuteTime": {
     "end_time": "2018-02-21T19:15:17.232400Z",
     "start_time": "2018-02-21T19:15:17.060200Z"
    }
   },
   "outputs": [
    {
     "data": {
      "text/plain": [
       "Text(0,0.5,'Classification Error')"
      ]
     },
     "execution_count": 32,
     "metadata": {},
     "output_type": "execute_result"
    },
    {
     "data": {
      "image/png": "[encoded data removed]",
      "text/plain": [
       "<matplotlib.figure.Figure at 0x7fb7d668f588>"
      ]
     },
     "metadata": {},
     "output_type": "display_data"
    }
   ],
   "source": [
    "plt.plot(Fs,lda_train_error,label=\"Train\")\n",
    "plt.plot(Fs,lda_val_error,label=\"Valuation\")\n",
    "plt.legend()\n",
    "plt.title(\"LDA Classifier Error vs Number Features\")\n",
    "plt.xlabel(\"Features\")\n",
    "plt.ylabel(\"Classification Error\")"
   ]
  },
  {
   "cell_type": "code",
   "execution_count": 33,
   "metadata": {
    "ExecuteTime": {
     "end_time": "2018-02-21T19:15:17.239400Z",
     "start_time": "2018-02-21T19:15:17.234400Z"
    }
   },
   "outputs": [
    {
     "data": {
      "text/plain": [
       "(4, 1000, 0.3520309477756286)"
      ]
     },
     "execution_count": 33,
     "metadata": {},
     "output_type": "execute_result"
    }
   ],
   "source": [
    "lda_best_idx=np.argmin(lda_val_error)\n",
    "lda_best_model=lda_models[lda_best_idx]\n",
    "lda_best_idx,Fs[lda_best_idx],lda_val_error[lda_best_idx]"
   ]
  },
  {
   "cell_type": "markdown",
   "metadata": {},
   "source": [
    "1. Optional number of features is 1,000\n",
    "1. After that, it overfits very quickly.\n",
    "1. Optimal accuracy is 64% (34% error rate), close (but not quite as good) as the Naive Bayes Classifier\n",
    "1. The difficulty is cause by fixing a $F\\times F$ covariance matrix for the features. "
   ]
  },
  {
   "cell_type": "markdown",
   "metadata": {
    "ExecuteTime": {
     "end_time": "2017-11-28T16:59:03.478191Z",
     "start_time": "2017-11-28T16:59:03.475182Z"
    }
   },
   "source": [
    "### Scramble train and test data"
   ]
  },
  {
   "cell_type": "markdown",
   "metadata": {},
   "source": [
    " ##  LogisticRegression Classifier vs Number of Features"
   ]
  },
  {
   "cell_type": "code",
   "execution_count": 34,
   "metadata": {
    "ExecuteTime": {
     "end_time": "2018-02-21T19:15:17.260400Z",
     "start_time": "2018-02-21T19:15:17.240400Z"
    }
   },
   "outputs": [],
   "source": [
    "logistic_base_model=LogisticRegression(C=1e40,solver=\"sag\",multi_class=\"multinomial\")\n",
    "#logistic_base_model=LogisticGDClassifier(,max_iter=5000, learning_rate=0.005,tol=1e-8)"
   ]
  },
  {
   "cell_type": "code",
   "execution_count": 35,
   "metadata": {
    "ExecuteTime": {
     "end_time": "2018-02-21T19:15:56.530000Z",
     "start_time": "2018-02-21T19:15:17.261400Z"
    }
   },
   "outputs": [
    {
     "data": {
      "application/vnd.jupyter.widget-view+json": {
       "model_id": "d70c193bf7bb4e138250a42ea21f1ceb",
       "version_major": 2,
       "version_minor": 0
      },
      "text/html": [
       "<p>Failed to display Jupyter Widget of type <code>IntProgress</code>.</p>\n",
       "<p>\n",
       "  If you're reading this message in the Jupyter Notebook or JupyterLab Notebook, it may mean\n",
       "  that the widgets JavaScript is still loading. If this message persists, it\n",
       "  likely means that the widgets JavaScript library is either not installed or\n",
       "  not enabled. See the <a href=\"https://ipywidgets.readthedocs.io/en/stable/user_install.html\">Jupyter\n",
       "  Widgets Documentation</a> for setup instructions.\n",
       "</p>\n",
       "<p>\n",
       "  If you're reading this message in another frontend (for example, a static\n",
       "  rendering on GitHub or <a href=\"https://nbviewer.jupyter.org/\">NBViewer</a>),\n",
       "  it may mean that your frontend doesn't currently support widgets.\n",
       "</p>\n"
      ],
      "text/plain": [
       "IntProgress(value=0, bar_style='info', description='Trials:', max=11)"
      ]
     },
     "metadata": {},
     "output_type": "display_data"
    },
    {
     "name": "stderr",
     "output_type": "stream",
     "text": [
      "/home/manel/anaconda3/lib/python3.6/site-packages/sklearn/linear_model/sag.py:326: ConvergenceWarning: The max_iter was reached which means the coef_ did not converge\n",
      "  \"the coef_ did not converge\", ConvergenceWarning)\n"
     ]
    },
    {
     "name": "stdout",
     "output_type": "stream",
     "text": [
      "Done.\n"
     ]
    }
   ],
   "source": [
    "# Display a progress bar that counts how many training rounds we have done so far\n",
    "progress2= IntProgress(min=0, max=len(Fs),description=\"Trials:\",bar_style=\"info\")\n",
    "display(progress2)\n",
    "\n",
    "\n",
    "logistic_train_error=[]\n",
    "logistic_val_error=[]\n",
    "progress2.value=0\n",
    "for F in Fs:\n",
    "    model=TextChi2Classifier(F,logistic_base_model)\n",
    "    model.fit(X,Y)\n",
    "    Y_pred=model.predict(X)\n",
    "    logistic_train_error.append(1-np.mean(Y_pred==Y))\n",
    "    Y_pred=model.predict(X_val)\n",
    "    logistic_val_error.append(1-np.mean(Y_pred==Y_val))\n",
    "    progress2.value+=1\n",
    "print(\"Done.\")"
   ]
  },
  {
   "cell_type": "code",
   "execution_count": 36,
   "metadata": {
    "ExecuteTime": {
     "end_time": "2018-02-21T19:15:56.674200Z",
     "start_time": "2018-02-21T19:15:56.545600Z"
    }
   },
   "outputs": [
    {
     "data": {
      "text/plain": [
       "Text(0,0.5,'Classification Error')"
      ]
     },
     "execution_count": 36,
     "metadata": {},
     "output_type": "execute_result"
    },
    {
     "data": {
      "image/png": "[encoded data removed]",
      "text/plain": [
       "<matplotlib.figure.Figure at 0x7fb7d6679f60>"
      ]
     },
     "metadata": {},
     "output_type": "display_data"
    }
   ],
   "source": [
    "plt.plot(Fs,logistic_train_error,label=\"Train\")\n",
    "plt.plot(Fs,logistic_val_error,label=\"Valuation\")\n",
    "plt.legend()\n",
    "plt.title(\"Logistic Classifier Error vs Number Features\")\n",
    "plt.xlabel(\"Features\")\n",
    "plt.ylabel(\"Classification Error\")"
   ]
  },
  {
   "cell_type": "code",
   "execution_count": 37,
   "metadata": {
    "ExecuteTime": {
     "end_time": "2018-02-21T19:15:56.682200Z",
     "start_time": "2018-02-21T19:15:56.676200Z"
    }
   },
   "outputs": [
    {
     "data": {
      "text/plain": [
       "(10, 27475, 0.16634429400386852)"
      ]
     },
     "execution_count": 37,
     "metadata": {},
     "output_type": "execute_result"
    }
   ],
   "source": [
    "logistic_best_idx=np.argmin(logistic_val_error)\n",
    "logistic_best_idx,Fs[logistic_best_idx],logistic_val_error[logistic_best_idx]"
   ]
  },
  {
   "cell_type": "markdown",
   "metadata": {},
   "source": [
    "1. The model is overfitting (training error is 0 after a few hundred Features)\n",
    "2. Test Error stabilizes after roughtly 5k features\n",
    "3. Logistic Regression performance does not degrade after we keep increasing the number of features"
   ]
  },
  {
   "cell_type": "markdown",
   "metadata": {},
   "source": [
    "Best Accuracy is $\\approx 84\\%$, better than Naive Bayes"
   ]
  },
  {
   "cell_type": "markdown",
   "metadata": {
    "collapsed": true
   },
   "source": [
    "## Regularization of the Logistic Regression Classifier"
   ]
  },
  {
   "cell_type": "code",
   "execution_count": 38,
   "metadata": {
    "ExecuteTime": {
     "end_time": "2018-02-21T19:15:56.703200Z",
     "start_time": "2018-02-21T19:15:56.684200Z"
    }
   },
   "outputs": [
    {
     "data": {
      "text/plain": [
       "27475"
      ]
     },
     "execution_count": 38,
     "metadata": {},
     "output_type": "execute_result"
    }
   ],
   "source": [
    "F_best=Fs[logistic_best_idx]\n",
    "F_best"
   ]
  },
  {
   "cell_type": "code",
   "execution_count": 39,
   "metadata": {
    "ExecuteTime": {
     "end_time": "2018-02-21T19:15:56.724200Z",
     "start_time": "2018-02-21T19:15:56.705200Z"
    }
   },
   "outputs": [],
   "source": [
    "Cs=[0.0001,0.001,0.01,0.1,1,10,100,1000,10000,1e10]"
   ]
  },
  {
   "cell_type": "code",
   "execution_count": 40,
   "metadata": {
    "ExecuteTime": {
     "end_time": "2018-02-21T19:15:56.741200Z",
     "start_time": "2018-02-21T19:15:56.726200Z"
    }
   },
   "outputs": [],
   "source": [
    "class CountFitter:\n",
    "    def __init__(self,base_model,countVectorizer,F):\n",
    "        model=TextChi2Classifier(F,base_model)\n",
    "        self.model=model\n",
    "        self.countVectorizer=countVectorizer\n",
    "    def fit(self,X,Y):\n",
    "        x=self.countVectorizer.fit_transform(X)\n",
    "        return self.model.fit(x,Y)\n",
    "    def predict(self,X):\n",
    "        x=self.countVectorizer.transform(X)\n",
    "        return self.model.predict(x)"
   ]
  },
  {
   "cell_type": "code",
   "execution_count": 41,
   "metadata": {
    "ExecuteTime": {
     "end_time": "2018-02-21T19:15:56.776200Z",
     "start_time": "2018-02-21T19:15:56.746200Z"
    }
   },
   "outputs": [],
   "source": [
    "def validate_model(model,K,X,Y):\n",
    "    X=np.copy(X)\n",
    "    Y=np.copy(Y)\n",
    "    folder=KFold(K,shuffle=True)\n",
    "    folds=folder.split(X,Y)\n",
    "    val_error=0.0\n",
    "    fold_count=0\n",
    "    for fold in folds:\n",
    "        train_idx,val_idx=fold\n",
    "        x_train=X[train_idx]\n",
    "        y_train=Y[train_idx]\n",
    "        x_val=X[val_idx]\n",
    "        y_val=Y[val_idx]     \n",
    "        model.fit(x_train,y_train)\n",
    "        y_pred=model.predict(x_val)\n",
    "        val_err=np.mean(y_val==y_pred)\n",
    "        #print(y_pred)\n",
    "        val_error+=val_err\n",
    "        fold_count+=1\n",
    "        print(fold_count,val_err)\n",
    "    return val_error/K\n"
   ]
  },
  {
   "cell_type": "code",
   "execution_count": null,
   "metadata": {
    "ExecuteTime": {
     "end_time": "2018-02-07T21:38:49.966829Z",
     "start_time": "2018-02-07T21:38:49.956829Z"
    }
   },
   "outputs": [],
   "source": []
  },
  {
   "cell_type": "code",
   "execution_count": 42,
   "metadata": {
    "ExecuteTime": {
     "end_time": "2018-02-21T19:15:56.794200Z",
     "start_time": "2018-02-21T19:15:56.777200Z"
    }
   },
   "outputs": [],
   "source": [
    "K=5"
   ]
  },
  {
   "cell_type": "code",
   "execution_count": 43,
   "metadata": {
    "ExecuteTime": {
     "end_time": "2018-02-21T19:45:53.657770Z",
     "start_time": "2018-02-21T19:15:56.796200Z"
    }
   },
   "outputs": [
    {
     "data": {
      "application/vnd.jupyter.widget-view+json": {
       "model_id": "e505b718ae0f4432b3bc41c4d1516112",
       "version_major": 2,
       "version_minor": 0
      },
      "text/html": [
       "<p>Failed to display Jupyter Widget of type <code>IntProgress</code>.</p>\n",
       "<p>\n",
       "  If you're reading this message in the Jupyter Notebook or JupyterLab Notebook, it may mean\n",
       "  that the widgets JavaScript is still loading. If this message persists, it\n",
       "  likely means that the widgets JavaScript library is either not installed or\n",
       "  not enabled. See the <a href=\"https://ipywidgets.readthedocs.io/en/stable/user_install.html\">Jupyter\n",
       "  Widgets Documentation</a> for setup instructions.\n",
       "</p>\n",
       "<p>\n",
       "  If you're reading this message in another frontend (for example, a static\n",
       "  rendering on GitHub or <a href=\"https://nbviewer.jupyter.org/\">NBViewer</a>),\n",
       "  it may mean that your frontend doesn't currently support widgets.\n",
       "</p>\n"
      ],
      "text/plain": [
       "IntProgress(value=0, bar_style='info', description='Trials:', max=10)"
      ]
     },
     "metadata": {},
     "output_type": "display_data"
    },
    {
     "name": "stderr",
     "output_type": "stream",
     "text": [
      "/home/manel/anaconda3/lib/python3.6/site-packages/sklearn/linear_model/sag.py:326: ConvergenceWarning: The max_iter was reached which means the coef_ did not converge\n",
      "  \"the coef_ did not converge\", ConvergenceWarning)\n"
     ]
    },
    {
     "name": "stdout",
     "output_type": "stream",
     "text": [
      "1 0.29980657640232106\n",
      "2 0.28433268858800775\n",
      "3 0.11605415860735009\n",
      "4 0.1644100580270793\n",
      "5 0.31007751937984496\n",
      "0.0001 0.7650637997990793\n",
      "1 0.6266924564796905\n",
      "2 0.5531914893617021\n",
      "3 0.5841392649903289\n"
     ]
    },
    {
     "ename": "ValueError",
     "evalue": "k should be >=0, <= n_features; got 27475.Use k='all' to return all features.",
     "output_type": "error",
     "traceback": [
      "\u001b[0;31m---------------------------------------------------------------------------\u001b[0m",
      "\u001b[0;31mValueError\u001b[0m                                Traceback (most recent call last)",
      "\u001b[0;32m<ipython-input-43-0c2afbb38bf9>\u001b[0m in \u001b[0;36m<module>\u001b[0;34m()\u001b[0m\n\u001b[1;32m      8\u001b[0m     \u001b[0mbase_model\u001b[0m\u001b[0;34m=\u001b[0m\u001b[0mLogisticRegression\u001b[0m\u001b[0;34m(\u001b[0m\u001b[0mC\u001b[0m\u001b[0;34m=\u001b[0m\u001b[0mC\u001b[0m\u001b[0;34m,\u001b[0m\u001b[0msolver\u001b[0m\u001b[0;34m=\u001b[0m\u001b[0;34m\"sag\"\u001b[0m\u001b[0;34m,\u001b[0m\u001b[0mmulti_class\u001b[0m\u001b[0;34m=\u001b[0m\u001b[0;34m\"multinomial\"\u001b[0m\u001b[0;34m)\u001b[0m\u001b[0;34m\u001b[0m\u001b[0m\n\u001b[1;32m      9\u001b[0m     \u001b[0mmodel\u001b[0m\u001b[0;34m=\u001b[0m\u001b[0mCountFitter\u001b[0m\u001b[0;34m(\u001b[0m\u001b[0mbase_model\u001b[0m\u001b[0;34m,\u001b[0m\u001b[0mcountVectorizer\u001b[0m\u001b[0;34m,\u001b[0m\u001b[0mF_best\u001b[0m\u001b[0;34m)\u001b[0m\u001b[0;34m\u001b[0m\u001b[0m\n\u001b[0;32m---> 10\u001b[0;31m     \u001b[0macc\u001b[0m\u001b[0;34m=\u001b[0m\u001b[0mvalidate_model\u001b[0m\u001b[0;34m(\u001b[0m\u001b[0mmodel\u001b[0m\u001b[0;34m,\u001b[0m\u001b[0mK\u001b[0m\u001b[0;34m,\u001b[0m\u001b[0mdocuments\u001b[0m\u001b[0;34m[\u001b[0m\u001b[0;34m\"filename\"\u001b[0m\u001b[0;34m]\u001b[0m\u001b[0;34m,\u001b[0m\u001b[0mdocuments\u001b[0m\u001b[0;34m[\u001b[0m\u001b[0;34m\"label\"\u001b[0m\u001b[0;34m]\u001b[0m\u001b[0;34m)\u001b[0m\u001b[0;34m\u001b[0m\u001b[0m\n\u001b[0m\u001b[1;32m     11\u001b[0m     \u001b[0mlogistic_val_error\u001b[0m\u001b[0;34m.\u001b[0m\u001b[0mappend\u001b[0m\u001b[0;34m(\u001b[0m\u001b[0;36m1\u001b[0m\u001b[0;34m-\u001b[0m\u001b[0macc\u001b[0m\u001b[0;34m)\u001b[0m\u001b[0;34m\u001b[0m\u001b[0m\n\u001b[1;32m     12\u001b[0m     \u001b[0mprint\u001b[0m\u001b[0;34m(\u001b[0m\u001b[0mC\u001b[0m\u001b[0;34m,\u001b[0m\u001b[0;36m1\u001b[0m\u001b[0;34m-\u001b[0m\u001b[0macc\u001b[0m\u001b[0;34m)\u001b[0m\u001b[0;34m\u001b[0m\u001b[0m\n",
      "\u001b[0;32m<ipython-input-41-5a2a1e587cea>\u001b[0m in \u001b[0;36mvalidate_model\u001b[0;34m(model, K, X, Y)\u001b[0m\n\u001b[1;32m     12\u001b[0m         \u001b[0mx_val\u001b[0m\u001b[0;34m=\u001b[0m\u001b[0mX\u001b[0m\u001b[0;34m[\u001b[0m\u001b[0mval_idx\u001b[0m\u001b[0;34m]\u001b[0m\u001b[0;34m\u001b[0m\u001b[0m\n\u001b[1;32m     13\u001b[0m         \u001b[0my_val\u001b[0m\u001b[0;34m=\u001b[0m\u001b[0mY\u001b[0m\u001b[0;34m[\u001b[0m\u001b[0mval_idx\u001b[0m\u001b[0;34m]\u001b[0m\u001b[0;34m\u001b[0m\u001b[0m\n\u001b[0;32m---> 14\u001b[0;31m         \u001b[0mmodel\u001b[0m\u001b[0;34m.\u001b[0m\u001b[0mfit\u001b[0m\u001b[0;34m(\u001b[0m\u001b[0mx_train\u001b[0m\u001b[0;34m,\u001b[0m\u001b[0my_train\u001b[0m\u001b[0;34m)\u001b[0m\u001b[0;34m\u001b[0m\u001b[0m\n\u001b[0m\u001b[1;32m     15\u001b[0m         \u001b[0my_pred\u001b[0m\u001b[0;34m=\u001b[0m\u001b[0mmodel\u001b[0m\u001b[0;34m.\u001b[0m\u001b[0mpredict\u001b[0m\u001b[0;34m(\u001b[0m\u001b[0mx_val\u001b[0m\u001b[0;34m)\u001b[0m\u001b[0;34m\u001b[0m\u001b[0m\n\u001b[1;32m     16\u001b[0m         \u001b[0mval_err\u001b[0m\u001b[0;34m=\u001b[0m\u001b[0mnp\u001b[0m\u001b[0;34m.\u001b[0m\u001b[0mmean\u001b[0m\u001b[0;34m(\u001b[0m\u001b[0my_val\u001b[0m\u001b[0;34m==\u001b[0m\u001b[0my_pred\u001b[0m\u001b[0;34m)\u001b[0m\u001b[0;34m\u001b[0m\u001b[0m\n",
      "\u001b[0;32m<ipython-input-40-06e1949fb406>\u001b[0m in \u001b[0;36mfit\u001b[0;34m(self, X, Y)\u001b[0m\n\u001b[1;32m      6\u001b[0m     \u001b[0;32mdef\u001b[0m \u001b[0mfit\u001b[0m\u001b[0;34m(\u001b[0m\u001b[0mself\u001b[0m\u001b[0;34m,\u001b[0m\u001b[0mX\u001b[0m\u001b[0;34m,\u001b[0m\u001b[0mY\u001b[0m\u001b[0;34m)\u001b[0m\u001b[0;34m:\u001b[0m\u001b[0;34m\u001b[0m\u001b[0m\n\u001b[1;32m      7\u001b[0m         \u001b[0mx\u001b[0m\u001b[0;34m=\u001b[0m\u001b[0mself\u001b[0m\u001b[0;34m.\u001b[0m\u001b[0mcountVectorizer\u001b[0m\u001b[0;34m.\u001b[0m\u001b[0mfit_transform\u001b[0m\u001b[0;34m(\u001b[0m\u001b[0mX\u001b[0m\u001b[0;34m)\u001b[0m\u001b[0;34m\u001b[0m\u001b[0m\n\u001b[0;32m----> 8\u001b[0;31m         \u001b[0;32mreturn\u001b[0m \u001b[0mself\u001b[0m\u001b[0;34m.\u001b[0m\u001b[0mmodel\u001b[0m\u001b[0;34m.\u001b[0m\u001b[0mfit\u001b[0m\u001b[0;34m(\u001b[0m\u001b[0mx\u001b[0m\u001b[0;34m,\u001b[0m\u001b[0mY\u001b[0m\u001b[0;34m)\u001b[0m\u001b[0;34m\u001b[0m\u001b[0m\n\u001b[0m\u001b[1;32m      9\u001b[0m     \u001b[0;32mdef\u001b[0m \u001b[0mpredict\u001b[0m\u001b[0;34m(\u001b[0m\u001b[0mself\u001b[0m\u001b[0;34m,\u001b[0m\u001b[0mX\u001b[0m\u001b[0;34m)\u001b[0m\u001b[0;34m:\u001b[0m\u001b[0;34m\u001b[0m\u001b[0m\n\u001b[1;32m     10\u001b[0m         \u001b[0mx\u001b[0m\u001b[0;34m=\u001b[0m\u001b[0mself\u001b[0m\u001b[0;34m.\u001b[0m\u001b[0mcountVectorizer\u001b[0m\u001b[0;34m.\u001b[0m\u001b[0mtransform\u001b[0m\u001b[0;34m(\u001b[0m\u001b[0mX\u001b[0m\u001b[0;34m)\u001b[0m\u001b[0;34m\u001b[0m\u001b[0m\n",
      "\u001b[0;32m<ipython-input-25-29348944936b>\u001b[0m in \u001b[0;36mfit\u001b[0;34m(self, X, Y)\u001b[0m\n\u001b[1;32m      6\u001b[0m         \u001b[0mdummies\u001b[0m\u001b[0;34m=\u001b[0m\u001b[0mpd\u001b[0m\u001b[0;34m.\u001b[0m\u001b[0mget_dummies\u001b[0m\u001b[0;34m(\u001b[0m\u001b[0mY\u001b[0m\u001b[0;34m,\u001b[0m\u001b[0mprefix\u001b[0m\u001b[0;34m=\u001b[0m\u001b[0;34m\"\"\u001b[0m\u001b[0;34m,\u001b[0m\u001b[0mprefix_sep\u001b[0m\u001b[0;34m=\u001b[0m\u001b[0;34m\"\"\u001b[0m\u001b[0;34m,\u001b[0m\u001b[0msparse\u001b[0m\u001b[0;34m=\u001b[0m\u001b[0;32mTrue\u001b[0m\u001b[0;34m)\u001b[0m\u001b[0;34m\u001b[0m\u001b[0m\n\u001b[1;32m      7\u001b[0m         \u001b[0mZ\u001b[0m\u001b[0;34m=\u001b[0m\u001b[0mdummies\u001b[0m\u001b[0;34m\u001b[0m\u001b[0m\n\u001b[0;32m----> 8\u001b[0;31m         \u001b[0mXt\u001b[0m\u001b[0;34m=\u001b[0m\u001b[0mself\u001b[0m\u001b[0;34m.\u001b[0m\u001b[0mtransformer\u001b[0m\u001b[0;34m.\u001b[0m\u001b[0mfit_transform\u001b[0m\u001b[0;34m(\u001b[0m\u001b[0mX\u001b[0m\u001b[0;34m,\u001b[0m\u001b[0mZ\u001b[0m\u001b[0;34m)\u001b[0m\u001b[0;34m\u001b[0m\u001b[0m\n\u001b[0m\u001b[1;32m      9\u001b[0m         \u001b[0mself\u001b[0m\u001b[0;34m.\u001b[0m\u001b[0mmodel\u001b[0m\u001b[0;34m.\u001b[0m\u001b[0mfit\u001b[0m\u001b[0;34m(\u001b[0m\u001b[0mXt\u001b[0m\u001b[0;34m,\u001b[0m\u001b[0mY\u001b[0m\u001b[0;34m)\u001b[0m\u001b[0;34m\u001b[0m\u001b[0m\n\u001b[1;32m     10\u001b[0m         \u001b[0;32mreturn\u001b[0m \u001b[0mself\u001b[0m\u001b[0;34m\u001b[0m\u001b[0m\n",
      "\u001b[0;32m~/anaconda3/lib/python3.6/site-packages/sklearn/base.py\u001b[0m in \u001b[0;36mfit_transform\u001b[0;34m(self, X, y, **fit_params)\u001b[0m\n\u001b[1;32m    518\u001b[0m         \u001b[0;32melse\u001b[0m\u001b[0;34m:\u001b[0m\u001b[0;34m\u001b[0m\u001b[0m\n\u001b[1;32m    519\u001b[0m             \u001b[0;31m# fit method of arity 2 (supervised transformation)\u001b[0m\u001b[0;34m\u001b[0m\u001b[0;34m\u001b[0m\u001b[0m\n\u001b[0;32m--> 520\u001b[0;31m             \u001b[0;32mreturn\u001b[0m \u001b[0mself\u001b[0m\u001b[0;34m.\u001b[0m\u001b[0mfit\u001b[0m\u001b[0;34m(\u001b[0m\u001b[0mX\u001b[0m\u001b[0;34m,\u001b[0m \u001b[0my\u001b[0m\u001b[0;34m,\u001b[0m \u001b[0;34m**\u001b[0m\u001b[0mfit_params\u001b[0m\u001b[0;34m)\u001b[0m\u001b[0;34m.\u001b[0m\u001b[0mtransform\u001b[0m\u001b[0;34m(\u001b[0m\u001b[0mX\u001b[0m\u001b[0;34m)\u001b[0m\u001b[0;34m\u001b[0m\u001b[0m\n\u001b[0m\u001b[1;32m    521\u001b[0m \u001b[0;34m\u001b[0m\u001b[0m\n\u001b[1;32m    522\u001b[0m \u001b[0;34m\u001b[0m\u001b[0m\n",
      "\u001b[0;32m~/anaconda3/lib/python3.6/site-packages/sklearn/feature_selection/univariate_selection.py\u001b[0m in \u001b[0;36mfit\u001b[0;34m(self, X, y)\u001b[0m\n\u001b[1;32m    346\u001b[0m                             % (self.score_func, type(self.score_func)))\n\u001b[1;32m    347\u001b[0m \u001b[0;34m\u001b[0m\u001b[0m\n\u001b[0;32m--> 348\u001b[0;31m         \u001b[0mself\u001b[0m\u001b[0;34m.\u001b[0m\u001b[0m_check_params\u001b[0m\u001b[0;34m(\u001b[0m\u001b[0mX\u001b[0m\u001b[0;34m,\u001b[0m \u001b[0my\u001b[0m\u001b[0;34m)\u001b[0m\u001b[0;34m\u001b[0m\u001b[0m\n\u001b[0m\u001b[1;32m    349\u001b[0m         \u001b[0mscore_func_ret\u001b[0m \u001b[0;34m=\u001b[0m \u001b[0mself\u001b[0m\u001b[0;34m.\u001b[0m\u001b[0mscore_func\u001b[0m\u001b[0;34m(\u001b[0m\u001b[0mX\u001b[0m\u001b[0;34m,\u001b[0m \u001b[0my\u001b[0m\u001b[0;34m)\u001b[0m\u001b[0;34m\u001b[0m\u001b[0m\n\u001b[1;32m    350\u001b[0m         \u001b[0;32mif\u001b[0m \u001b[0misinstance\u001b[0m\u001b[0;34m(\u001b[0m\u001b[0mscore_func_ret\u001b[0m\u001b[0;34m,\u001b[0m \u001b[0;34m(\u001b[0m\u001b[0mlist\u001b[0m\u001b[0;34m,\u001b[0m \u001b[0mtuple\u001b[0m\u001b[0;34m)\u001b[0m\u001b[0;34m)\u001b[0m\u001b[0;34m:\u001b[0m\u001b[0;34m\u001b[0m\u001b[0m\n",
      "\u001b[0;32m~/anaconda3/lib/python3.6/site-packages/sklearn/feature_selection/univariate_selection.py\u001b[0m in \u001b[0;36m_check_params\u001b[0;34m(self, X, y)\u001b[0m\n\u001b[1;32m    491\u001b[0m             raise ValueError(\"k should be >=0, <= n_features; got %r.\"\n\u001b[1;32m    492\u001b[0m                              \u001b[0;34m\"Use k='all' to return all features.\"\u001b[0m\u001b[0;34m\u001b[0m\u001b[0m\n\u001b[0;32m--> 493\u001b[0;31m                              % self.k)\n\u001b[0m\u001b[1;32m    494\u001b[0m \u001b[0;34m\u001b[0m\u001b[0m\n\u001b[1;32m    495\u001b[0m     \u001b[0;32mdef\u001b[0m \u001b[0m_get_support_mask\u001b[0m\u001b[0;34m(\u001b[0m\u001b[0mself\u001b[0m\u001b[0;34m)\u001b[0m\u001b[0;34m:\u001b[0m\u001b[0;34m\u001b[0m\u001b[0m\n",
      "\u001b[0;31mValueError\u001b[0m: k should be >=0, <= n_features; got 27475.Use k='all' to return all features."
     ]
    }
   ],
   "source": [
    "# Display a progress bar that counts how many training rounds we have done so far\n",
    "progress3= IntProgress(min=0, max=len(Cs),description=\"Trials:\",bar_style=\"info\")\n",
    "display(progress3)\n",
    "\n",
    "logistic_val_error=[]\n",
    "progress3.value=0\n",
    "for C in Cs:\n",
    "    base_model=LogisticRegression(C=C,solver=\"sag\",multi_class=\"multinomial\")\n",
    "    model=CountFitter(base_model,countVectorizer,F_best)\n",
    "    acc=validate_model(model,K,documents[\"filename\"],documents[\"label\"])\n",
    "    logistic_val_error.append(1-acc)\n",
    "    print(C,1-acc)\n",
    "    progress3.value+=1\n",
    "print(\"Done.\")"
   ]
  },
  {
   "cell_type": "code",
   "execution_count": null,
   "metadata": {
    "ExecuteTime": {
     "end_time": "2018-02-21T19:45:53.666770Z",
     "start_time": "2018-02-21T19:45:53.659770Z"
    }
   },
   "outputs": [],
   "source": [
    "logistic_val_error=np.array(logistic_val_error)\n",
    "print(\"C,error\")\n",
    "for idx,C in enumerate(Cs):\n",
    "    print(C,logistic_val_error[idx])"
   ]
  },
  {
   "cell_type": "code",
   "execution_count": null,
   "metadata": {
    "ExecuteTime": {
     "end_time": "2018-02-21T19:45:53.694770Z",
     "start_time": "2018-02-21T19:45:53.669770Z"
    }
   },
   "outputs": [],
   "source": [
    "best_idx=logistic_val_error.argmin()\n",
    "best_C=Cs[best_idx]\n",
    "print(best_idx,best_C,logistic_val_error[best_idx])"
   ]
  },
  {
   "cell_type": "markdown",
   "metadata": {
    "ExecuteTime": {
     "end_time": "2017-11-28T02:30:19.174446Z",
     "start_time": "2017-11-28T02:30:19.170435Z"
    },
    "collapsed": true
   },
   "source": [
    "## Test best model"
   ]
  },
  {
   "cell_type": "markdown",
   "metadata": {},
   "source": [
    "Best model is logistic regression, with C=100 used on all features"
   ]
  },
  {
   "cell_type": "code",
   "execution_count": null,
   "metadata": {
    "ExecuteTime": {
     "end_time": "2018-02-21T19:45:53.715770Z",
     "start_time": "2018-02-21T19:45:53.697770Z"
    }
   },
   "outputs": [],
   "source": [
    "Y_test=test_documents[\"label\"]"
   ]
  },
  {
   "cell_type": "code",
   "execution_count": null,
   "metadata": {
    "ExecuteTime": {
     "end_time": "2018-02-21T19:45:53.738770Z",
     "start_time": "2018-02-21T19:45:53.721770Z"
    }
   },
   "outputs": [],
   "source": [
    "base_model=LogisticRegression(C=best_C,solver=\"sag\",multi_class=\"multinomial\")\n",
    "model=CountFitter(base_model,countVectorizer,F_best)"
   ]
  },
  {
   "cell_type": "code",
   "execution_count": null,
   "metadata": {
    "ExecuteTime": {
     "end_time": "2018-02-21T19:46:33.749082Z",
     "start_time": "2018-02-21T19:45:53.739770Z"
    }
   },
   "outputs": [],
   "source": [
    "model.fit(documents[\"filename\"],documents[\"label\"])"
   ]
  },
  {
   "cell_type": "code",
   "execution_count": null,
   "metadata": {
    "ExecuteTime": {
     "end_time": "2018-02-21T19:47:06.670409Z",
     "start_time": "2018-02-21T19:46:33.751082Z"
    }
   },
   "outputs": [],
   "source": [
    "Y_pred=model.predict(test_documents[\"filename\"])\n",
    "np.mean(Y_pred==Y_test)"
   ]
  },
  {
   "cell_type": "code",
   "execution_count": null,
   "metadata": {},
   "outputs": [],
   "source": []
  },
  {
   "cell_type": "code",
   "execution_count": null,
   "metadata": {
    "ExecuteTime": {
     "end_time": "2018-02-21T19:47:06.677409Z",
     "start_time": "2018-02-21T19:47:06.673409Z"
    }
   },
   "outputs": [],
   "source": [
    "classes=np.unique(Y_test.as_matrix())"
   ]
  },
  {
   "cell_type": "code",
   "execution_count": null,
   "metadata": {
    "ExecuteTime": {
     "end_time": "2018-02-21T19:47:10.630000Z",
     "start_time": "2018-02-21T19:47:06.681409Z"
    }
   },
   "outputs": [],
   "source": [
    "plt.figure(figsize=(15,15))\n",
    "cnf_matrix = metrics.confusion_matrix(Y_test, Y_pred)\n",
    "np.set_printoptions(precision=2)\n",
    "plots.plot_confusion_matrix(cnf_matrix,classes)"
   ]
  },
  {
   "cell_type": "code",
   "execution_count": null,
   "metadata": {},
   "outputs": [],
   "source": []
  },
  {
   "cell_type": "code",
   "execution_count": null,
   "metadata": {},
   "outputs": [],
   "source": []
  },
  {
   "cell_type": "code",
   "execution_count": null,
   "metadata": {},
   "outputs": [],
   "source": []
  }
 ],
 "metadata": {
  "kernelspec": {
   "display_name": "Python 3",
   "language": "python",
   "name": "python3"
  },
  "language_info": {
   "codemirror_mode": {
    "name": "ipython",
    "version": 3
   },
   "file_extension": ".py",
   "mimetype": "text/x-python",
   "name": "python",
   "nbconvert_exporter": "python",
   "pygments_lexer": "ipython3",
   "version": "3.6.5"
  },
  "toc": {
   "base_numbering": 1,
   "nav_menu": {},
   "number_sections": true,
   "sideBar": true,
   "skip_h1_title": true,
   "title_cell": "Table of Contents",
   "title_sidebar": "Contents",
   "toc_cell": false,
   "toc_position": {},
   "toc_section_display": "block",
   "toc_window_display": false
  },
  "widgets": {
   "state": {
    "8840df332ff740e480bbdd81936d3ffc": {
     "views": [
      {
       "cell_index": 47
      }
     ]
    },
    "9eb260872d73428aabe5e661910dc8ea": {
     "views": [
      {
       "cell_index": 62
      }
     ]
    },
    "e7eda7b7372b422e82445f28340b5cf5": {
     "views": [
      {
       "cell_index": 53
      }
     ]
    }
   },
   "version": "1.2.0"
  }
 },
 "nbformat": 4,
 "nbformat_minor": 2
}
