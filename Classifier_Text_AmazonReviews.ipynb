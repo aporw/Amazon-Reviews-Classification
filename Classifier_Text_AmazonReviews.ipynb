{
 "cells": [
  {
   "cell_type": "markdown",
   "metadata": {},
   "source": [
    "# Logistic Regression Classifiers Amazon Review Summaries"
   ]
  },
  {
   "cell_type": "markdown",
   "metadata": {},
   "source": [
    "In this notebook we will apply `LogisticRegression` to a binary classficiation problem\n",
    "problem.\n",
    "\n",
    "As the bag of words representation of a document is high dimensional we will use $\\chi^2$ feature selection to select a subspace of a manageable dimension. \n"
   ]
  },
  {
   "cell_type": "markdown",
   "metadata": {},
   "source": [
    "## Preliminaries"
   ]
  },
  {
   "cell_type": "markdown",
   "metadata": {},
   "source": [
    "### Imports"
   ]
  },
  {
   "cell_type": "code",
   "execution_count": 1,
   "metadata": {
    "ExecuteTime": {
     "end_time": "2018-02-21T18:50:34.203396Z",
     "start_time": "2018-02-21T18:50:22.354890Z"
    }
   },
   "outputs": [],
   "source": [
    "import pickle\n",
    "\n",
    "import numpy as np\n",
    "import pandas as pd\n",
    "import matplotlib.pyplot as plt\n",
    "\n",
    "from sklearn.feature_extraction.text import CountVectorizer,TfidfVectorizer\n",
    "\n",
    "from sklearn import metrics\n",
    "from sklearn.feature_selection import SelectKBest, chi2\n",
    "from sklearn.model_selection import train_test_split,KFold\n",
    "from sklearn.preprocessing import LabelEncoder, OneHotEncoder\n",
    "from sklearn.linear_model import LogisticRegression\n",
    "\n",
    "from sklearn.discriminant_analysis import LinearDiscriminantAnalysis\n",
    "\n",
    "# for a progress bar on slow calculations\n",
    "from ipywidgets import IntProgress\n",
    "from IPython.display import display\n",
    "\n",
    "import sys\n",
    "sys.path.append(\"../..\")\n",
    "from E4525_ML import plots\n",
    "import E4525_ML.text as text\n",
    "from E4525_ML.multiclass_logistic import LogisticGDClassifier\n",
    "%matplotlib inline\n",
    "plt.rcParams['figure.figsize'] = (8.0, 6.0) # set default size of plots"
   ]
  },
  {
   "cell_type": "code",
   "execution_count": 2,
   "metadata": {
    "ExecuteTime": {
     "end_time": "2018-02-21T18:50:34.212420Z",
     "start_time": "2018-02-21T18:50:34.207407Z"
    }
   },
   "outputs": [],
   "source": [
    "seed=23\n",
    "np.random.seed(seed)"
   ]
  },
  {
   "cell_type": "markdown",
   "metadata": {},
   "source": [
    "### Data"
   ]
  },
  {
   "cell_type": "markdown",
   "metadata": {},
   "source": [
    "#### Data Directories"
   ]
  },
  {
   "cell_type": "code",
   "execution_count": 3,
   "metadata": {
    "ExecuteTime": {
     "end_time": "2018-02-21T18:50:34.251524Z",
     "start_time": "2018-02-21T18:50:34.215428Z"
    }
   },
   "outputs": [],
   "source": [
    "data_dir=r\"../../raw/amazon-reviews\""
   ]
  },
  {
   "cell_type": "markdown",
   "metadata": {},
   "source": [
    "#### Corpus"
   ]
  },
  {
   "cell_type": "code",
   "execution_count": 4,
   "metadata": {
    "ExecuteTime": {
     "end_time": "2018-02-21T18:50:35.049646Z",
     "start_time": "2018-02-21T18:50:34.255535Z"
    }
   },
   "outputs": [
    {
     "data": {
      "text/html": [
       "<div>\n",
       "<style scoped>\n",
       "    .dataframe tbody tr th:only-of-type {\n",
       "        vertical-align: middle;\n",
       "    }\n",
       "\n",
       "    .dataframe tbody tr th {\n",
       "        vertical-align: top;\n",
       "    }\n",
       "\n",
       "    .dataframe thead th {\n",
       "        text-align: right;\n",
       "    }\n",
       "</style>\n",
       "<table border=\"1\" class=\"dataframe\">\n",
       "  <thead>\n",
       "    <tr style=\"text-align: right;\">\n",
       "      <th></th>\n",
       "      <th>Summary</th>\n",
       "      <th>Score</th>\n",
       "    </tr>\n",
       "  </thead>\n",
       "  <tbody>\n",
       "    <tr>\n",
       "      <th>0</th>\n",
       "      <td>Nice</td>\n",
       "      <td>5</td>\n",
       "    </tr>\n",
       "    <tr>\n",
       "      <th>1</th>\n",
       "      <td>No taste or flavor</td>\n",
       "      <td>2</td>\n",
       "    </tr>\n",
       "    <tr>\n",
       "      <th>2</th>\n",
       "      <td>spicy thai chips</td>\n",
       "      <td>5</td>\n",
       "    </tr>\n",
       "    <tr>\n",
       "      <th>3</th>\n",
       "      <td>I'm Loven The Mount Hagen!</td>\n",
       "      <td>5</td>\n",
       "    </tr>\n",
       "    <tr>\n",
       "      <th>4</th>\n",
       "      <td>Bigelow Tea Chest</td>\n",
       "      <td>2</td>\n",
       "    </tr>\n",
       "  </tbody>\n",
       "</table>\n",
       "</div>"
      ],
      "text/plain": [
       "                      Summary  Score\n",
       "0                        Nice      5\n",
       "1          No taste or flavor      2\n",
       "2            spicy thai chips      5\n",
       "3  I'm Loven The Mount Hagen!      5\n",
       "4           Bigelow Tea Chest      2"
      ]
     },
     "execution_count": 4,
     "metadata": {},
     "output_type": "execute_result"
    }
   ],
   "source": [
    "documents_filename=data_dir+\"/documents.csv\"\n",
    "documents=pd.read_csv(documents_filename)\n",
    "documents[\"Summary\"].fillna(\"\",inplace=True)\n",
    "documents.head()"
   ]
  },
  {
   "cell_type": "code",
   "execution_count": 5,
   "metadata": {
    "ExecuteTime": {
     "end_time": "2018-02-21T18:50:35.230126Z",
     "start_time": "2018-02-21T18:50:35.065689Z"
    },
    "scrolled": true
   },
   "outputs": [
    {
     "data": {
      "text/html": [
       "<div>\n",
       "<style scoped>\n",
       "    .dataframe tbody tr th:only-of-type {\n",
       "        vertical-align: middle;\n",
       "    }\n",
       "\n",
       "    .dataframe tbody tr th {\n",
       "        vertical-align: top;\n",
       "    }\n",
       "\n",
       "    .dataframe thead th {\n",
       "        text-align: right;\n",
       "    }\n",
       "</style>\n",
       "<table border=\"1\" class=\"dataframe\">\n",
       "  <thead>\n",
       "    <tr style=\"text-align: right;\">\n",
       "      <th></th>\n",
       "      <th>Summary</th>\n",
       "      <th>Score</th>\n",
       "    </tr>\n",
       "  </thead>\n",
       "  <tbody>\n",
       "    <tr>\n",
       "      <th>0</th>\n",
       "      <td>Huge disappointment</td>\n",
       "      <td>1</td>\n",
       "    </tr>\n",
       "    <tr>\n",
       "      <th>1</th>\n",
       "      <td>In lieu of the now bastardized American black ...</td>\n",
       "      <td>3</td>\n",
       "    </tr>\n",
       "    <tr>\n",
       "      <th>2</th>\n",
       "      <td>Wow.</td>\n",
       "      <td>5</td>\n",
       "    </tr>\n",
       "    <tr>\n",
       "      <th>3</th>\n",
       "      <td>Tastes just like the store</td>\n",
       "      <td>5</td>\n",
       "    </tr>\n",
       "    <tr>\n",
       "      <th>4</th>\n",
       "      <td>a very handi snack</td>\n",
       "      <td>5</td>\n",
       "    </tr>\n",
       "  </tbody>\n",
       "</table>\n",
       "</div>"
      ],
      "text/plain": [
       "                                             Summary  Score\n",
       "0                                Huge disappointment      1\n",
       "1  In lieu of the now bastardized American black ...      3\n",
       "2                                               Wow.      5\n",
       "3                         Tastes just like the store      5\n",
       "4                                 a very handi snack      5"
      ]
     },
     "execution_count": 5,
     "metadata": {},
     "output_type": "execute_result"
    }
   ],
   "source": [
    "test_documents_filename=data_dir+\"/documents_test.csv\"\n",
    "test_documents=pd.read_csv(test_documents_filename)\n",
    "test_documents[\"Summary\"].fillna(\"\",inplace=True)\n",
    "test_documents.head()"
   ]
  },
  {
   "cell_type": "markdown",
   "metadata": {},
   "source": [
    "\n",
    "## Validation Set Creation"
   ]
  },
  {
   "cell_type": "code",
   "execution_count": 6,
   "metadata": {
    "ExecuteTime": {
     "end_time": "2018-02-21T18:50:35.661272Z",
     "start_time": "2018-02-21T18:50:35.233136Z"
    }
   },
   "outputs": [],
   "source": [
    "docs_train,docs_val,label_train,label_val=train_test_split(documents[\"Summary\"],documents[\"Score\"],test_size=0.2)"
   ]
  },
  {
   "cell_type": "code",
   "execution_count": 7,
   "metadata": {
    "ExecuteTime": {
     "end_time": "2018-02-21T18:50:35.670296Z",
     "start_time": "2018-02-21T18:50:35.663278Z"
    }
   },
   "outputs": [],
   "source": [
    "Y_train=label_train>3\n",
    "Y_val=label_val>3"
   ]
  },
  {
   "cell_type": "markdown",
   "metadata": {},
   "source": [
    "## Generic Text Classifier with Feature Selection"
   ]
  },
  {
   "cell_type": "markdown",
   "metadata": {},
   "source": [
    "Selection $F$ features base of a $\\chi^2$ test makes sense for any classifier.\n",
    "\n",
    "For convenience we create a new wrapper classifier that selects $F$ features and calls the underlying\n",
    "classier with them."
   ]
  },
  {
   "cell_type": "code",
   "execution_count": 8,
   "metadata": {
    "ExecuteTime": {
     "end_time": "2018-02-21T18:50:35.714415Z",
     "start_time": "2018-02-21T18:50:35.676312Z"
    }
   },
   "outputs": [],
   "source": [
    "class TextChi2Classifier:\n",
    "    def __init__(self,F,model):\n",
    "        self.model=model\n",
    "        self.transformer=SelectKBest(chi2,F)\n",
    "    def fit(self,X,Y,X_val=None,Y_val=None):\n",
    "        dummies=pd.get_dummies(Y,prefix=\"\",prefix_sep=\"\",sparse=True)\n",
    "        Z=dummies\n",
    "        Xt=self.transformer.fit_transform(X,Z)\n",
    "        Xt_val=None\n",
    "        if (not (X_val is None)):\n",
    "            Xt_val=self.transformer.transform(X_val)\n",
    "        self.model.fit(Xt,Y,Xt_val,Y_val)\n",
    "        return self\n",
    "    def predict(self,X):\n",
    "        Xt=self.transformer.transform(X)\n",
    "        return self.model.predict(Xt)\n",
    "    def predict_proba(self,X):\n",
    "        Xt=self.transformer.transform(X)\n",
    "        return self.model.predict_proba(Xt)"
   ]
  },
  {
   "cell_type": "code",
   "execution_count": 9,
   "metadata": {
    "ExecuteTime": {
     "end_time": "2018-02-21T18:50:35.741486Z",
     "start_time": "2018-02-21T18:50:35.717421Z"
    }
   },
   "outputs": [],
   "source": [
    "countVectorizer=CountVectorizer(input=\"content\")"
   ]
  },
  {
   "cell_type": "code",
   "execution_count": 10,
   "metadata": {
    "ExecuteTime": {
     "end_time": "2018-02-21T18:50:44.173840Z",
     "start_time": "2018-02-21T18:50:35.745496Z"
    }
   },
   "outputs": [],
   "source": [
    "X=countVectorizer.fit_transform(docs_train)\n",
    "X_val=countVectorizer.transform(docs_val)\n",
    "Y=Y_train"
   ]
  },
  {
   "cell_type": "code",
   "execution_count": 11,
   "metadata": {
    "ExecuteTime": {
     "end_time": "2018-02-21T18:50:44.187875Z",
     "start_time": "2018-02-21T18:50:44.176847Z"
    }
   },
   "outputs": [
    {
     "data": {
      "text/plain": [
       "29084"
      ]
     },
     "execution_count": 11,
     "metadata": {},
     "output_type": "execute_result"
    }
   ],
   "source": [
    "V=X.shape[1]\n",
    "V"
   ]
  },
  {
   "cell_type": "code",
   "execution_count": 12,
   "metadata": {
    "ExecuteTime": {
     "end_time": "2018-02-21T18:50:44.209933Z",
     "start_time": "2018-02-21T18:50:44.192887Z"
    }
   },
   "outputs": [],
   "source": [
    "base_model=LogisticGDClassifier(max_iter=100, learning_rate=0.005,tol=1e-8)"
   ]
  },
  {
   "cell_type": "code",
   "execution_count": 13,
   "metadata": {
    "ExecuteTime": {
     "end_time": "2018-02-21T18:50:44.230988Z",
     "start_time": "2018-02-21T18:50:44.212940Z"
    }
   },
   "outputs": [],
   "source": [
    "F=1000"
   ]
  },
  {
   "cell_type": "code",
   "execution_count": 14,
   "metadata": {
    "ExecuteTime": {
     "end_time": "2018-02-21T18:50:44.251042Z",
     "start_time": "2018-02-21T18:50:44.236001Z"
    }
   },
   "outputs": [],
   "source": [
    "modelT=TextChi2Classifier(F,base_model)"
   ]
  },
  {
   "cell_type": "code",
   "execution_count": 15,
   "metadata": {
    "ExecuteTime": {
     "end_time": "2018-02-21T18:55:53.035532Z",
     "start_time": "2018-02-21T18:50:44.254054Z"
    }
   },
   "outputs": [
    {
     "name": "stdout",
     "output_type": "stream",
     "text": [
      "\t 0 Loss = 694.3814033060282 Train_Accuracy 0.486 Evaluation Loss = 695.5799487147383 Accuracy = 0.468\n",
      "\t 10 Loss = 291.3810585812772 Train_Accuracy 0.886 Evaluation Loss = 314.86817904286573 Accuracy = 0.866\n",
      "\t 20 Loss = 266.37244396181256 Train_Accuracy 0.904 Evaluation Loss = 321.65899448925563 Accuracy = 0.861\n",
      "\t 30 Loss = 292.5577553480849 Train_Accuracy 0.886 Evaluation Loss = 307.31609740925273 Accuracy = 0.883\n",
      "\t 40 Loss = 296.2300938608464 Train_Accuracy 0.881 Evaluation Loss = 315.6748974738257 Accuracy = 0.865\n",
      "\t 50 Loss = 292.3599124065488 Train_Accuracy 0.883 Evaluation Loss = 292.4774083290627 Accuracy = 0.883\n",
      "\t 60 Loss = 307.25681602989175 Train_Accuracy 0.869 Evaluation Loss = 299.4299727273892 Accuracy = 0.877\n",
      "\t 70 Loss = 287.4125703584782 Train_Accuracy 0.883 Evaluation Loss = 306.7181224645605 Accuracy = 0.873\n",
      "\t 80 Loss = 309.179228609953 Train_Accuracy 0.869 Evaluation Loss = 304.4187182424062 Accuracy = 0.879\n",
      "\t 90 Loss = 273.85731570380875 Train_Accuracy 0.881 Evaluation Loss = 334.3246597719598 Accuracy = 0.858\n",
      "\t 99 Loss = 292.45108874086475 Train_Accuracy 0.883 Evaluation Loss = 283.5027208478798 Accuracy = 0.88\n"
     ]
    },
    {
     "data": {
      "text/plain": [
       "<__main__.TextChi2Classifier at 0x7ffb5b473438>"
      ]
     },
     "execution_count": 15,
     "metadata": {},
     "output_type": "execute_result"
    }
   ],
   "source": [
    "modelT.fit(X,Y,X_val,Y_val)"
   ]
  },
  {
   "cell_type": "code",
   "execution_count": 16,
   "metadata": {
    "ExecuteTime": {
     "end_time": "2018-02-21T18:55:53.121761Z",
     "start_time": "2018-02-21T18:55:53.040546Z"
    }
   },
   "outputs": [
    {
     "name": "stderr",
     "output_type": "stream",
     "text": [
      "/home/manel/anaconda3/lib/python3.6/site-packages/sklearn/preprocessing/label.py:151: DeprecationWarning: The truth value of an empty array is ambiguous. Returning False, but in future this will result in an error. Use `array.size > 0` to check that an array is not empty.\n",
      "  if diff:\n"
     ]
    },
    {
     "data": {
      "text/plain": [
       "0.8784914290181974"
      ]
     },
     "execution_count": 16,
     "metadata": {},
     "output_type": "execute_result"
    }
   ],
   "source": [
    "Y_pred=modelT.predict(X_val)\n",
    "np.mean(Y_pred==Y_val)"
   ]
  },
  {
   "cell_type": "code",
   "execution_count": 17,
   "metadata": {
    "ExecuteTime": {
     "end_time": "2018-02-21T18:55:53.188946Z",
     "start_time": "2018-02-21T18:55:53.124771Z"
    }
   },
   "outputs": [],
   "source": [
    "prob=modelT.predict_proba(X_val)\n",
    "fpr,tpr,threshold=metrics.roc_curve(Y_val,prob[:,1])"
   ]
  },
  {
   "cell_type": "code",
   "execution_count": 18,
   "metadata": {
    "ExecuteTime": {
     "end_time": "2018-02-21T18:55:53.229047Z",
     "start_time": "2018-02-21T18:55:53.191949Z"
    }
   },
   "outputs": [
    {
     "name": "stdout",
     "output_type": "stream",
     "text": [
      "0.9130896668762072\n"
     ]
    }
   ],
   "source": [
    "auc=metrics.roc_auc_score(Y_val,prob[:,1])\n",
    "print(auc)"
   ]
  },
  {
   "cell_type": "markdown",
   "metadata": {},
   "source": [
    " ##  LogisticRegression Classifier vs Number of Features"
   ]
  },
  {
   "cell_type": "code",
   "execution_count": 19,
   "metadata": {
    "ExecuteTime": {
     "end_time": "2018-02-21T18:55:53.236065Z",
     "start_time": "2018-02-21T18:55:53.232055Z"
    }
   },
   "outputs": [],
   "source": [
    "Fs=[100,200,500,1000,5000,10000,20000,V]"
   ]
  },
  {
   "cell_type": "code",
   "execution_count": 20,
   "metadata": {
    "ExecuteTime": {
     "end_time": "2018-02-21T19:55:40.891102Z",
     "start_time": "2018-02-21T18:55:53.239073Z"
    }
   },
   "outputs": [
    {
     "data": {
      "application/vnd.jupyter.widget-view+json": {
       "model_id": "2247637347d142bb9c6b53f8c3911892",
       "version_major": 2,
       "version_minor": 0
      },
      "text/html": [
       "<p>Failed to display Jupyter Widget of type <code>IntProgress</code>.</p>\n",
       "<p>\n",
       "  If you're reading this message in the Jupyter Notebook or JupyterLab Notebook, it may mean\n",
       "  that the widgets JavaScript is still loading. If this message persists, it\n",
       "  likely means that the widgets JavaScript library is either not installed or\n",
       "  not enabled. See the <a href=\"https://ipywidgets.readthedocs.io/en/stable/user_install.html\">Jupyter\n",
       "  Widgets Documentation</a> for setup instructions.\n",
       "</p>\n",
       "<p>\n",
       "  If you're reading this message in another frontend (for example, a static\n",
       "  rendering on GitHub or <a href=\"https://nbviewer.jupyter.org/\">NBViewer</a>),\n",
       "  it may mean that your frontend doesn't currently support widgets.\n",
       "</p>\n"
      ],
      "text/plain": [
       "IntProgress(value=0, bar_style='info', description='Trials:', max=8)"
      ]
     },
     "metadata": {},
     "output_type": "display_data"
    },
    {
     "name": "stdout",
     "output_type": "stream",
     "text": [
      "\t 0 Loss = 713.6237070970609 Train_Accuracy 0.357 Evaluation Loss = 712.4869763573076 Accuracy = 0.361\n",
      "\t 10 Loss = 344.4045245679549 Train_Accuracy 0.871 Evaluation Loss = 353.64928632275956 Accuracy = 0.846\n",
      "\t 20 Loss = 333.89658685308916 Train_Accuracy 0.864 Evaluation Loss = 371.2266097373361 Accuracy = 0.834\n",
      "\t 30 Loss = 337.9133813651735 Train_Accuracy 0.871 Evaluation Loss = 330.6760442926062 Accuracy = 0.863\n",
      "\t 40 Loss = 362.08642361375325 Train_Accuracy 0.849 Evaluation Loss = 351.2564216814226 Accuracy = 0.851\n",
      "\t 50 Loss = 386.0017324951782 Train_Accuracy 0.833 Evaluation Loss = 369.03078084960856 Accuracy = 0.839\n",
      "\t 60 Loss = 374.2262646253451 Train_Accuracy 0.846 Evaluation Loss = 379.6055671945113 Accuracy = 0.832\n",
      "\t 70 Loss = 336.6039406336417 Train_Accuracy 0.862 Evaluation Loss = 353.4635563968813 Accuracy = 0.856\n",
      "\t 80 Loss = 350.70467782206435 Train_Accuracy 0.862 Evaluation Loss = 354.68256468618677 Accuracy = 0.863\n",
      "\t 90 Loss = 335.92774220954504 Train_Accuracy 0.875 Evaluation Loss = 359.96421718244534 Accuracy = 0.841\n",
      "\t 99 Loss = 333.7665676552437 Train_Accuracy 0.868 Evaluation Loss = 345.29936598726704 Accuracy = 0.856\n"
     ]
    },
    {
     "name": "stderr",
     "output_type": "stream",
     "text": [
      "/home/manel/anaconda3/lib/python3.6/site-packages/sklearn/preprocessing/label.py:151: DeprecationWarning: The truth value of an empty array is ambiguous. Returning False, but in future this will result in an error. Use `array.size > 0` to check that an array is not empty.\n",
      "  if diff:\n",
      "/home/manel/anaconda3/lib/python3.6/site-packages/sklearn/preprocessing/label.py:151: DeprecationWarning: The truth value of an empty array is ambiguous. Returning False, but in future this will result in an error. Use `array.size > 0` to check that an array is not empty.\n",
      "  if diff:\n"
     ]
    },
    {
     "name": "stdout",
     "output_type": "stream",
     "text": [
      "\t 0 Loss = 691.2385923217765 Train_Accuracy 0.418 Evaluation Loss = 696.553982405238 Accuracy = 0.39\n",
      "\t 10 Loss = 305.8965203121561 Train_Accuracy 0.879 Evaluation Loss = 349.647258603299 Accuracy = 0.857\n",
      "\t 20 Loss = 326.5539355678069 Train_Accuracy 0.872 Evaluation Loss = 357.1840692163496 Accuracy = 0.853\n",
      "\t 30 Loss = 322.10360873912373 Train_Accuracy 0.855 Evaluation Loss = 344.41507532458405 Accuracy = 0.855\n",
      "\t 40 Loss = 318.0759393759334 Train_Accuracy 0.879 Evaluation Loss = 319.21534069155643 Accuracy = 0.874\n",
      "\t 50 Loss = 361.27509246425785 Train_Accuracy 0.848 Evaluation Loss = 319.4162861340264 Accuracy = 0.87\n",
      "\t 60 Loss = 326.4764057749228 Train_Accuracy 0.873 Evaluation Loss = 309.1676113279509 Accuracy = 0.878\n",
      "\t 70 Loss = 330.72069313072063 Train_Accuracy 0.862 Evaluation Loss = 332.2607553811113 Accuracy = 0.869\n",
      "\t 80 Loss = 339.4627399009772 Train_Accuracy 0.857 Evaluation Loss = 343.04658203975555 Accuracy = 0.86\n",
      "\t 90 Loss = 339.7797318763867 Train_Accuracy 0.868 Evaluation Loss = 313.9584877734572 Accuracy = 0.871\n",
      "\t 99 Loss = 361.29670551167817 Train_Accuracy 0.864 Evaluation Loss = 343.2572396125022 Accuracy = 0.855\n"
     ]
    },
    {
     "name": "stderr",
     "output_type": "stream",
     "text": [
      "/home/manel/anaconda3/lib/python3.6/site-packages/sklearn/preprocessing/label.py:151: DeprecationWarning: The truth value of an empty array is ambiguous. Returning False, but in future this will result in an error. Use `array.size > 0` to check that an array is not empty.\n",
      "  if diff:\n",
      "/home/manel/anaconda3/lib/python3.6/site-packages/sklearn/preprocessing/label.py:151: DeprecationWarning: The truth value of an empty array is ambiguous. Returning False, but in future this will result in an error. Use `array.size > 0` to check that an array is not empty.\n",
      "  if diff:\n"
     ]
    },
    {
     "name": "stdout",
     "output_type": "stream",
     "text": [
      "\t 0 Loss = 686.602853024651 Train_Accuracy 0.512 Evaluation Loss = 684.7820998032828 Accuracy = 0.507\n",
      "\t 10 Loss = 313.4445709219756 Train_Accuracy 0.884 Evaluation Loss = 321.6066483481897 Accuracy = 0.877\n",
      "\t 20 Loss = 296.313252158016 Train_Accuracy 0.882 Evaluation Loss = 307.3796468577581 Accuracy = 0.866\n",
      "\t 30 Loss = 313.7452474670217 Train_Accuracy 0.867 Evaluation Loss = 299.9051011148208 Accuracy = 0.872\n",
      "\t 40 Loss = 336.86393604877765 Train_Accuracy 0.865 Evaluation Loss = 295.467789308193 Accuracy = 0.874\n",
      "\t 50 Loss = 317.59340830524945 Train_Accuracy 0.863 Evaluation Loss = 322.4139154316603 Accuracy = 0.867\n",
      "\t 60 Loss = 342.44539758318524 Train_Accuracy 0.857 Evaluation Loss = 321.4785971917603 Accuracy = 0.865\n",
      "\t 70 Loss = 330.81324131863664 Train_Accuracy 0.871 Evaluation Loss = 317.9725800657354 Accuracy = 0.868\n",
      "\t 80 Loss = 325.27108626646077 Train_Accuracy 0.861 Evaluation Loss = 321.57249801865987 Accuracy = 0.868\n",
      "\t 90 Loss = 308.2651825218126 Train_Accuracy 0.877 Evaluation Loss = 285.4875785198408 Accuracy = 0.886\n",
      "\t 99 Loss = 306.67375798854755 Train_Accuracy 0.877 Evaluation Loss = 316.16156071911234 Accuracy = 0.869\n"
     ]
    },
    {
     "name": "stderr",
     "output_type": "stream",
     "text": [
      "/home/manel/anaconda3/lib/python3.6/site-packages/sklearn/preprocessing/label.py:151: DeprecationWarning: The truth value of an empty array is ambiguous. Returning False, but in future this will result in an error. Use `array.size > 0` to check that an array is not empty.\n",
      "  if diff:\n",
      "/home/manel/anaconda3/lib/python3.6/site-packages/sklearn/preprocessing/label.py:151: DeprecationWarning: The truth value of an empty array is ambiguous. Returning False, but in future this will result in an error. Use `array.size > 0` to check that an array is not empty.\n",
      "  if diff:\n"
     ]
    },
    {
     "name": "stdout",
     "output_type": "stream",
     "text": [
      "\t 0 Loss = 692.7044082687056 Train_Accuracy 0.484 Evaluation Loss = 693.4865392546136 Accuracy = 0.487\n",
      "\t 10 Loss = 290.70792896137976 Train_Accuracy 0.88 Evaluation Loss = 281.8871636385619 Accuracy = 0.881\n",
      "\t 20 Loss = 297.1931383588426 Train_Accuracy 0.883 Evaluation Loss = 299.1978342041592 Accuracy = 0.885\n",
      "\t 30 Loss = 290.2819166778752 Train_Accuracy 0.884 Evaluation Loss = 280.39594059519885 Accuracy = 0.887\n",
      "\t 40 Loss = 263.61345645863264 Train_Accuracy 0.89 Evaluation Loss = 277.87333416706065 Accuracy = 0.887\n",
      "\t 50 Loss = 318.648093220675 Train_Accuracy 0.874 Evaluation Loss = 335.86400092421167 Accuracy = 0.868\n",
      "\t 60 Loss = 276.80480987110735 Train_Accuracy 0.895 Evaluation Loss = 270.69924963527103 Accuracy = 0.902\n",
      "\t 70 Loss = 299.02748071976964 Train_Accuracy 0.871 Evaluation Loss = 293.2039161363314 Accuracy = 0.88\n",
      "\t 80 Loss = 327.03296041541864 Train_Accuracy 0.873 Evaluation Loss = 305.26320522596154 Accuracy = 0.881\n",
      "\t 90 Loss = 323.5211983247735 Train_Accuracy 0.882 Evaluation Loss = 298.5232473829666 Accuracy = 0.88\n",
      "\t 99 Loss = 295.1677521333678 Train_Accuracy 0.884 Evaluation Loss = 300.7194004544739 Accuracy = 0.878\n"
     ]
    },
    {
     "name": "stderr",
     "output_type": "stream",
     "text": [
      "/home/manel/anaconda3/lib/python3.6/site-packages/sklearn/preprocessing/label.py:151: DeprecationWarning: The truth value of an empty array is ambiguous. Returning False, but in future this will result in an error. Use `array.size > 0` to check that an array is not empty.\n",
      "  if diff:\n",
      "/home/manel/anaconda3/lib/python3.6/site-packages/sklearn/preprocessing/label.py:151: DeprecationWarning: The truth value of an empty array is ambiguous. Returning False, but in future this will result in an error. Use `array.size > 0` to check that an array is not empty.\n",
      "  if diff:\n"
     ]
    },
    {
     "name": "stdout",
     "output_type": "stream",
     "text": [
      "\t 0 Loss = 693.9175767068338 Train_Accuracy 0.498 Evaluation Loss = 693.3043915174072 Accuracy = 0.505\n",
      "\t 10 Loss = 286.5642818060368 Train_Accuracy 0.883 Evaluation Loss = 272.17194972669313 Accuracy = 0.891\n",
      "\t 20 Loss = 280.44612599148286 Train_Accuracy 0.891 Evaluation Loss = 294.5628001108789 Accuracy = 0.87\n",
      "\t 30 Loss = 281.61501297611517 Train_Accuracy 0.886 Evaluation Loss = 300.0706589142542 Accuracy = 0.882\n",
      "\t 40 Loss = 272.3238254055369 Train_Accuracy 0.896 Evaluation Loss = 288.9622531921241 Accuracy = 0.88\n",
      "\t 50 Loss = 255.5111838793165 Train_Accuracy 0.898 Evaluation Loss = 273.5031287621497 Accuracy = 0.893\n",
      "\t 60 Loss = 256.9793242701623 Train_Accuracy 0.893 Evaluation Loss = 270.0080238445288 Accuracy = 0.89\n",
      "\t 70 Loss = 248.59907646655034 Train_Accuracy 0.897 Evaluation Loss = 261.65269662602145 Accuracy = 0.896\n",
      "\t 80 Loss = 241.52046786090335 Train_Accuracy 0.907 Evaluation Loss = 256.6957246873074 Accuracy = 0.902\n",
      "\t 90 Loss = 285.1264819616451 Train_Accuracy 0.876 Evaluation Loss = 302.5023690943756 Accuracy = 0.87\n",
      "\t 99 Loss = 233.75042582952773 Train_Accuracy 0.907 Evaluation Loss = 250.63970128548127 Accuracy = 0.899\n"
     ]
    },
    {
     "name": "stderr",
     "output_type": "stream",
     "text": [
      "/home/manel/anaconda3/lib/python3.6/site-packages/sklearn/preprocessing/label.py:151: DeprecationWarning: The truth value of an empty array is ambiguous. Returning False, but in future this will result in an error. Use `array.size > 0` to check that an array is not empty.\n",
      "  if diff:\n",
      "/home/manel/anaconda3/lib/python3.6/site-packages/sklearn/preprocessing/label.py:151: DeprecationWarning: The truth value of an empty array is ambiguous. Returning False, but in future this will result in an error. Use `array.size > 0` to check that an array is not empty.\n",
      "  if diff:\n"
     ]
    },
    {
     "name": "stdout",
     "output_type": "stream",
     "text": [
      "\t 0 Loss = 693.5618499613255 Train_Accuracy 0.498 Evaluation Loss = 693.7852843442829 Accuracy = 0.494\n",
      "\t 10 Loss = 266.83189773673354 Train_Accuracy 0.895 Evaluation Loss = 296.2117689618572 Accuracy = 0.882\n",
      "\t 20 Loss = 259.4518292794857 Train_Accuracy 0.9 Evaluation Loss = 287.36530343717084 Accuracy = 0.894\n",
      "\t 30 Loss = 253.4906589408936 Train_Accuracy 0.904 Evaluation Loss = 290.6375584422618 Accuracy = 0.887\n",
      "\t 40 Loss = 272.98868144598794 Train_Accuracy 0.869 Evaluation Loss = 310.9376310839741 Accuracy = 0.875\n",
      "\t 50 Loss = 288.3844795316676 Train_Accuracy 0.882 Evaluation Loss = 259.3146357002005 Accuracy = 0.895\n",
      "\t 60 Loss = 262.1849218756039 Train_Accuracy 0.884 Evaluation Loss = 243.07448022901525 Accuracy = 0.905\n",
      "\t 70 Loss = 264.83094512983104 Train_Accuracy 0.89 Evaluation Loss = 284.88181138662617 Accuracy = 0.893\n",
      "\t 80 Loss = 257.10488873839574 Train_Accuracy 0.897 Evaluation Loss = 254.56228130218767 Accuracy = 0.899\n",
      "\t 90 Loss = 270.7894084303123 Train_Accuracy 0.883 Evaluation Loss = 262.190158115245 Accuracy = 0.892\n",
      "\t 99 Loss = 284.7551617981255 Train_Accuracy 0.886 Evaluation Loss = 264.09515057397806 Accuracy = 0.891\n"
     ]
    },
    {
     "name": "stderr",
     "output_type": "stream",
     "text": [
      "/home/manel/anaconda3/lib/python3.6/site-packages/sklearn/preprocessing/label.py:151: DeprecationWarning: The truth value of an empty array is ambiguous. Returning False, but in future this will result in an error. Use `array.size > 0` to check that an array is not empty.\n",
      "  if diff:\n",
      "/home/manel/anaconda3/lib/python3.6/site-packages/sklearn/preprocessing/label.py:151: DeprecationWarning: The truth value of an empty array is ambiguous. Returning False, but in future this will result in an error. Use `array.size > 0` to check that an array is not empty.\n",
      "  if diff:\n"
     ]
    },
    {
     "name": "stdout",
     "output_type": "stream",
     "text": [
      "\t 0 Loss = 694.7189145417128 Train_Accuracy 0.443 Evaluation Loss = 694.1150499648229 Accuracy = 0.467\n",
      "\t 10 Loss = 277.2807905739496 Train_Accuracy 0.892 Evaluation Loss = 270.1910965569029 Accuracy = 0.894\n",
      "\t 20 Loss = 259.78357824018923 Train_Accuracy 0.898 Evaluation Loss = 318.5077763612704 Accuracy = 0.868\n",
      "\t 30 Loss = 263.1412989152965 Train_Accuracy 0.891 Evaluation Loss = 258.4379987578846 Accuracy = 0.898\n",
      "\t 40 Loss = 279.4672561375314 Train_Accuracy 0.898 Evaluation Loss = 252.6134232593878 Accuracy = 0.898\n",
      "\t 50 Loss = 257.323057443458 Train_Accuracy 0.896 Evaluation Loss = 281.8097778800626 Accuracy = 0.889\n",
      "\t 60 Loss = 262.7860372722128 Train_Accuracy 0.893 Evaluation Loss = 282.23554001323384 Accuracy = 0.878\n",
      "\t 70 Loss = 257.89426364960764 Train_Accuracy 0.898 Evaluation Loss = 272.34359706025805 Accuracy = 0.892\n",
      "\t 80 Loss = 206.4567588728832 Train_Accuracy 0.923 Evaluation Loss = 266.0666401562104 Accuracy = 0.893\n",
      "\t 90 Loss = 268.02473975603675 Train_Accuracy 0.896 Evaluation Loss = 280.0771042035801 Accuracy = 0.88\n",
      "\t 99 Loss = 244.30736277977275 Train_Accuracy 0.9 Evaluation Loss = 241.84564043478127 Accuracy = 0.901\n"
     ]
    },
    {
     "name": "stderr",
     "output_type": "stream",
     "text": [
      "/home/manel/anaconda3/lib/python3.6/site-packages/sklearn/preprocessing/label.py:151: DeprecationWarning: The truth value of an empty array is ambiguous. Returning False, but in future this will result in an error. Use `array.size > 0` to check that an array is not empty.\n",
      "  if diff:\n",
      "/home/manel/anaconda3/lib/python3.6/site-packages/sklearn/preprocessing/label.py:151: DeprecationWarning: The truth value of an empty array is ambiguous. Returning False, but in future this will result in an error. Use `array.size > 0` to check that an array is not empty.\n",
      "  if diff:\n"
     ]
    },
    {
     "name": "stdout",
     "output_type": "stream",
     "text": [
      "\t 0 Loss = 693.5605275306441 Train_Accuracy 0.48 Evaluation Loss = 693.0227997603035 Accuracy = 0.495\n",
      "\t 10 Loss = 278.1077467128055 Train_Accuracy 0.879 Evaluation Loss = 298.91114376510035 Accuracy = 0.88\n",
      "\t 20 Loss = 239.77489307507852 Train_Accuracy 0.9 Evaluation Loss = 249.43531060461203 Accuracy = 0.902\n",
      "\t 30 Loss = 270.45120860517056 Train_Accuracy 0.9 Evaluation Loss = 268.69940795683 Accuracy = 0.891\n",
      "\t 40 Loss = 237.34771750710868 Train_Accuracy 0.905 Evaluation Loss = 278.43138939614084 Accuracy = 0.896\n",
      "\t 50 Loss = 258.85499943015134 Train_Accuracy 0.897 Evaluation Loss = 272.78373250705687 Accuracy = 0.901\n",
      "\t 60 Loss = 249.52561334479924 Train_Accuracy 0.897 Evaluation Loss = 286.4130505278875 Accuracy = 0.883\n",
      "\t 70 Loss = 257.0214262537236 Train_Accuracy 0.895 Evaluation Loss = 247.49058252628288 Accuracy = 0.895\n",
      "\t 80 Loss = 233.21209961458595 Train_Accuracy 0.908 Evaluation Loss = 313.61926701049504 Accuracy = 0.875\n",
      "\t 90 Loss = 239.18862666652262 Train_Accuracy 0.901 Evaluation Loss = 240.1211206844082 Accuracy = 0.903\n",
      "\t 99 Loss = 259.47134436352866 Train_Accuracy 0.897 Evaluation Loss = 292.9327552358535 Accuracy = 0.893\n",
      "Done.\n"
     ]
    },
    {
     "name": "stderr",
     "output_type": "stream",
     "text": [
      "/home/manel/anaconda3/lib/python3.6/site-packages/sklearn/preprocessing/label.py:151: DeprecationWarning: The truth value of an empty array is ambiguous. Returning False, but in future this will result in an error. Use `array.size > 0` to check that an array is not empty.\n",
      "  if diff:\n",
      "/home/manel/anaconda3/lib/python3.6/site-packages/sklearn/preprocessing/label.py:151: DeprecationWarning: The truth value of an empty array is ambiguous. Returning False, but in future this will result in an error. Use `array.size > 0` to check that an array is not empty.\n",
      "  if diff:\n"
     ]
    }
   ],
   "source": [
    "# Display a progress bar that counts how many training rounds we have done so far\n",
    "progress2= IntProgress(min=0, max=len(Fs),description=\"Trials:\",bar_style=\"info\")\n",
    "display(progress2)\n",
    "\n",
    "\n",
    "logistic_train_error=[]\n",
    "logistic_val_error=[]\n",
    "progress2.value=0\n",
    "for F in Fs:\n",
    "    model=TextChi2Classifier(F,base_model)\n",
    "    model.fit(X,Y,X_val,Y_val)\n",
    "    Y_pred=model.predict(X)\n",
    "    logistic_train_error.append(1-np.mean(Y_pred==Y))\n",
    "    Y_pred=model.predict(X_val)\n",
    "    logistic_val_error.append(1-np.mean(Y_pred==Y_val))\n",
    "    progress2.value+=1\n",
    "print(\"Done.\")"
   ]
  },
  {
   "cell_type": "code",
   "execution_count": 21,
   "metadata": {
    "ExecuteTime": {
     "end_time": "2018-02-21T19:55:41.322247Z",
     "start_time": "2018-02-21T19:55:40.896117Z"
    }
   },
   "outputs": [
    {
     "data": {
      "text/plain": [
       "(0, 0.15)"
      ]
     },
     "execution_count": 21,
     "metadata": {},
     "output_type": "execute_result"
    },
    {
     "data": {
      "image/png": "[encoded data removed]",
      "text/plain": [
       "<matplotlib.figure.Figure at 0x7ffb5b47ecf8>"
      ]
     },
     "metadata": {},
     "output_type": "display_data"
    }
   ],
   "source": [
    "plt.plot(Fs,logistic_train_error,label=\"Train\")\n",
    "plt.plot(Fs,logistic_val_error,label=\"Valuation\")\n",
    "plt.legend()\n",
    "plt.title(\"Logistic Classifier Error vs Number Features\")\n",
    "plt.xlabel(\"Features\")\n",
    "plt.ylabel(\"Classification Error\")\n",
    "plt.ylim(0,0.15)"
   ]
  },
  {
   "cell_type": "code",
   "execution_count": 22,
   "metadata": {
    "ExecuteTime": {
     "end_time": "2018-02-21T19:55:41.338289Z",
     "start_time": "2018-02-21T19:55:41.325254Z"
    }
   },
   "outputs": [
    {
     "data": {
      "text/plain": [
       "(7, 29084, 0.10663395946130838)"
      ]
     },
     "execution_count": 22,
     "metadata": {},
     "output_type": "execute_result"
    }
   ],
   "source": [
    "logistic_best_idx=np.argmin(logistic_val_error)\n",
    "logistic_best_idx,Fs[logistic_best_idx],logistic_val_error[logistic_best_idx]"
   ]
  },
  {
   "cell_type": "markdown",
   "metadata": {},
   "source": [
    "1. The model is generalizing pretty well (91% train accuracy versus 89% validation accuracy) \n",
    "2. Test Error stabilizes after roughtly 5k features\n",
    "3. Logistic Regression performance does not degrade after we keep increasing the number of features"
   ]
  },
  {
   "cell_type": "markdown",
   "metadata": {},
   "source": [
    "Best Accuracy is $\\approx 89\\%$, *slightly* better than Naive Bayes"
   ]
  },
  {
   "cell_type": "markdown",
   "metadata": {
    "collapsed": true
   },
   "source": [
    "## Regularization of the Logistic Regression Classifier"
   ]
  },
  {
   "cell_type": "code",
   "execution_count": 23,
   "metadata": {
    "ExecuteTime": {
     "end_time": "2018-02-21T19:55:41.409479Z",
     "start_time": "2018-02-21T19:55:41.346310Z"
    }
   },
   "outputs": [
    {
     "data": {
      "text/plain": [
       "29084"
      ]
     },
     "execution_count": 23,
     "metadata": {},
     "output_type": "execute_result"
    }
   ],
   "source": [
    "F_best=Fs[logistic_best_idx]\n",
    "F_best"
   ]
  },
  {
   "cell_type": "code",
   "execution_count": 24,
   "metadata": {
    "ExecuteTime": {
     "end_time": "2018-02-21T19:55:41.430535Z",
     "start_time": "2018-02-21T19:55:41.413489Z"
    }
   },
   "outputs": [],
   "source": [
    "Cs=[0.0001,0.001,0.01,0.1,1,10,100,1000,10000,1e10]"
   ]
  },
  {
   "cell_type": "code",
   "execution_count": 25,
   "metadata": {
    "ExecuteTime": {
     "end_time": "2018-02-21T21:24:38.838091Z",
     "start_time": "2018-02-21T19:55:41.433543Z"
    }
   },
   "outputs": [
    {
     "data": {
      "application/vnd.jupyter.widget-view+json": {
       "model_id": "11bdf50082e44d2985c222cdca937cf7",
       "version_major": 2,
       "version_minor": 0
      },
      "text/html": [
       "<p>Failed to display Jupyter Widget of type <code>IntProgress</code>.</p>\n",
       "<p>\n",
       "  If you're reading this message in the Jupyter Notebook or JupyterLab Notebook, it may mean\n",
       "  that the widgets JavaScript is still loading. If this message persists, it\n",
       "  likely means that the widgets JavaScript library is either not installed or\n",
       "  not enabled. See the <a href=\"https://ipywidgets.readthedocs.io/en/stable/user_install.html\">Jupyter\n",
       "  Widgets Documentation</a> for setup instructions.\n",
       "</p>\n",
       "<p>\n",
       "  If you're reading this message in another frontend (for example, a static\n",
       "  rendering on GitHub or <a href=\"https://nbviewer.jupyter.org/\">NBViewer</a>),\n",
       "  it may mean that your frontend doesn't currently support widgets.\n",
       "</p>\n"
      ],
      "text/plain": [
       "IntProgress(value=0, bar_style='info', description='Trials:', max=10)"
      ]
     },
     "metadata": {},
     "output_type": "display_data"
    },
    {
     "name": "stdout",
     "output_type": "stream",
     "text": [
      "\t 0 Loss = 10693.825342427528 Train_Accuracy 0.54 Evaluation Loss = 10693.548809345273 Accuracy = 0.571\n",
      "\t 10 Loss = 11834.020241280581 Train_Accuracy 0.774 Evaluation Loss = 11799.948823117313 Accuracy = 0.794\n",
      "\t 20 Loss = 11730.837035065033 Train_Accuracy 0.775 Evaluation Loss = 11716.041514796785 Accuracy = 0.794\n",
      "\t 30 Loss = 11700.42567876523 Train_Accuracy 0.785 Evaluation Loss = 11690.605592555825 Accuracy = 0.792\n",
      "\t 40 Loss = 11200.971504512416 Train_Accuracy 0.781 Evaluation Loss = 11206.021802856036 Accuracy = 0.78\n",
      "\t 50 Loss = 11222.945527611282 Train_Accuracy 0.794 Evaluation Loss = 11210.079897302985 Accuracy = 0.808\n",
      "\t 60 Loss = 11310.783620171529 Train_Accuracy 0.762 Evaluation Loss = 11286.677870064168 Accuracy = 0.784\n",
      "\t 70 Loss = 11671.161547819702 Train_Accuracy 0.794 Evaluation Loss = 11685.664585639914 Accuracy = 0.787\n",
      "\t 80 Loss = 11045.337864106948 Train_Accuracy 0.776 Evaluation Loss = 11038.989903099944 Accuracy = 0.783\n",
      "\t 90 Loss = 12289.932592916759 Train_Accuracy 0.8 Evaluation Loss = 12283.71946106164 Accuracy = 0.808\n",
      "\t 99 Loss = 12170.226551510681 Train_Accuracy 0.801 Evaluation Loss = 12184.386518211548 Accuracy = 0.786\n",
      "0.0001 0.20045542503078517\n"
     ]
    },
    {
     "name": "stderr",
     "output_type": "stream",
     "text": [
      "/home/manel/anaconda3/lib/python3.6/site-packages/sklearn/preprocessing/label.py:151: DeprecationWarning: The truth value of an empty array is ambiguous. Returning False, but in future this will result in an error. Use `array.size > 0` to check that an array is not empty.\n",
      "  if diff:\n"
     ]
    },
    {
     "name": "stdout",
     "output_type": "stream",
     "text": [
      "\t 0 Loss = 1693.717288993652 Train_Accuracy 0.452 Evaluation Loss = 1693.6066818418017 Accuracy = 0.429\n",
      "\t 10 Loss = 14541.7406069151 Train_Accuracy 0.829 Evaluation Loss = 14537.09983970846 Accuracy = 0.827\n",
      "\t 20 Loss = 14686.410068011628 Train_Accuracy 0.823 Evaluation Loss = 14685.161185832865 Accuracy = 0.82\n",
      "\t 30 Loss = 14473.301340631762 Train_Accuracy 0.814 Evaluation Loss = 14460.176371823798 Accuracy = 0.832\n",
      "\t 40 Loss = 14562.85278485652 Train_Accuracy 0.815 Evaluation Loss = 14552.494633325146 Accuracy = 0.826\n",
      "\t 50 Loss = 14378.9390321896 Train_Accuracy 0.817 Evaluation Loss = 14383.544408095464 Accuracy = 0.824\n",
      "\t 60 Loss = 14514.804036805566 Train_Accuracy 0.808 Evaluation Loss = 14515.036553950238 Accuracy = 0.8\n",
      "\t 70 Loss = 14488.24337253364 Train_Accuracy 0.818 Evaluation Loss = 14489.291789447394 Accuracy = 0.819\n",
      "\t 80 Loss = 14712.389417578552 Train_Accuracy 0.821 Evaluation Loss = 14728.670825486552 Accuracy = 0.805\n",
      "\t 90 Loss = 14699.606710932809 Train_Accuracy 0.832 Evaluation Loss = 14683.100049687586 Accuracy = 0.834\n",
      "\t 99 Loss = 14513.50289024921 Train_Accuracy 0.835 Evaluation Loss = 14551.475998625521 Accuracy = 0.809\n",
      "0.001 0.17943355290162433\n"
     ]
    },
    {
     "name": "stderr",
     "output_type": "stream",
     "text": [
      "/home/manel/anaconda3/lib/python3.6/site-packages/sklearn/preprocessing/label.py:151: DeprecationWarning: The truth value of an empty array is ambiguous. Returning False, but in future this will result in an error. Use `array.size > 0` to check that an array is not empty.\n",
      "  if diff:\n"
     ]
    },
    {
     "name": "stdout",
     "output_type": "stream",
     "text": [
      "\t 0 Loss = 792.7298398502647 Train_Accuracy 0.504 Evaluation Loss = 792.3874193454394 Accuracy = 0.534\n",
      "\t 10 Loss = 11446.313626745534 Train_Accuracy 0.874 Evaluation Loss = 11428.362554096977 Accuracy = 0.885\n",
      "\t 20 Loss = 11442.820821515319 Train_Accuracy 0.872 Evaluation Loss = 11467.8265511211 Accuracy = 0.862\n",
      "\t 30 Loss = 11422.973387003442 Train_Accuracy 0.853 Evaluation Loss = 11412.315771558377 Accuracy = 0.856\n",
      "\t 40 Loss = 11404.741287840374 Train_Accuracy 0.877 Evaluation Loss = 11427.712923573443 Accuracy = 0.864\n",
      "\t 50 Loss = 11452.49712976508 Train_Accuracy 0.875 Evaluation Loss = 11450.373122157413 Accuracy = 0.877\n",
      "\t 60 Loss = 11419.279725143426 Train_Accuracy 0.876 Evaluation Loss = 11448.780921152484 Accuracy = 0.862\n",
      "\t 70 Loss = 11473.147437956868 Train_Accuracy 0.868 Evaluation Loss = 11468.837922689601 Accuracy = 0.87\n",
      "\t 80 Loss = 11468.97590239128 Train_Accuracy 0.856 Evaluation Loss = 11433.08067088393 Accuracy = 0.877\n",
      "\t 90 Loss = 11461.163996757972 Train_Accuracy 0.867 Evaluation Loss = 11431.91105676772 Accuracy = 0.889\n",
      "\t 99 Loss = 11412.516422501156 Train_Accuracy 0.873 Evaluation Loss = 11400.304384339546 Accuracy = 0.877\n",
      "0.01 0.13117413654932464\n"
     ]
    },
    {
     "name": "stderr",
     "output_type": "stream",
     "text": [
      "/home/manel/anaconda3/lib/python3.6/site-packages/sklearn/preprocessing/label.py:151: DeprecationWarning: The truth value of an empty array is ambiguous. Returning False, but in future this will result in an error. Use `array.size > 0` to check that an array is not empty.\n",
      "  if diff:\n"
     ]
    },
    {
     "name": "stdout",
     "output_type": "stream",
     "text": [
      "\t 0 Loss = 703.3457220692757 Train_Accuracy 0.474 Evaluation Loss = 703.056125433617 Accuracy = 0.509\n",
      "\t 10 Loss = 4673.861195085731 Train_Accuracy 0.897 Evaluation Loss = 4681.642970813908 Accuracy = 0.89\n",
      "\t 20 Loss = 6125.3629112976805 Train_Accuracy 0.882 Evaluation Loss = 6111.92110586164 Accuracy = 0.896\n",
      "\t 30 Loss = 6783.835389296134 Train_Accuracy 0.885 Evaluation Loss = 6816.479617800662 Accuracy = 0.878\n",
      "\t 40 Loss = 7075.22688024288 Train_Accuracy 0.901 Evaluation Loss = 7096.034105523182 Accuracy = 0.894\n",
      "\t 50 Loss = 7279.557945228624 Train_Accuracy 0.896 Evaluation Loss = 7284.15439456807 Accuracy = 0.887\n",
      "\t 60 Loss = 7321.145956640137 Train_Accuracy 0.897 Evaluation Loss = 7312.400257791455 Accuracy = 0.902\n",
      "\t 70 Loss = 7423.427080911586 Train_Accuracy 0.869 Evaluation Loss = 7397.786453274635 Accuracy = 0.888\n",
      "\t 80 Loss = 7391.254669621823 Train_Accuracy 0.9 Evaluation Loss = 7421.905980310434 Accuracy = 0.875\n",
      "\t 90 Loss = 7399.914801213099 Train_Accuracy 0.893 Evaluation Loss = 7414.4486889695345 Accuracy = 0.888\n",
      "\t 99 Loss = 7445.146313902258 Train_Accuracy 0.891 Evaluation Loss = 7430.030822364818 Accuracy = 0.889\n",
      "0.1 0.11210687828619459\n"
     ]
    },
    {
     "name": "stderr",
     "output_type": "stream",
     "text": [
      "/home/manel/anaconda3/lib/python3.6/site-packages/sklearn/preprocessing/label.py:151: DeprecationWarning: The truth value of an empty array is ambiguous. Returning False, but in future this will result in an error. Use `array.size > 0` to check that an array is not empty.\n",
      "  if diff:\n"
     ]
    },
    {
     "name": "stdout",
     "output_type": "stream",
     "text": [
      "\t 0 Loss = 693.8436545732084 Train_Accuracy 0.509 Evaluation Loss = 694.0970593385981 Accuracy = 0.51\n",
      "\t 10 Loss = 872.809925857026 Train_Accuracy 0.882 Evaluation Loss = 868.8254084330924 Accuracy = 0.881\n",
      "\t 20 Loss = 1212.5632925092564 Train_Accuracy 0.916 Evaluation Loss = 1268.4122218758134 Accuracy = 0.884\n",
      "\t 30 Loss = 1605.603279772602 Train_Accuracy 0.887 Evaluation Loss = 1598.8600230478778 Accuracy = 0.896\n",
      "\t 40 Loss = 1909.0052451430506 Train_Accuracy 0.888 Evaluation Loss = 1918.951707397141 Accuracy = 0.883\n",
      "\t 50 Loss = 2168.932787041512 Train_Accuracy 0.892 Evaluation Loss = 2208.7253365966694 Accuracy = 0.874\n",
      "\t 60 Loss = 2414.752187156957 Train_Accuracy 0.897 Evaluation Loss = 2412.520246724882 Accuracy = 0.902\n",
      "\t 70 Loss = 2643.80988695834 Train_Accuracy 0.891 Evaluation Loss = 2633.3360074391285 Accuracy = 0.904\n",
      "\t 80 Loss = 2844.0090724330057 Train_Accuracy 0.89 Evaluation Loss = 2857.506672502844 Accuracy = 0.891\n",
      "\t 90 Loss = 3024.289035963312 Train_Accuracy 0.898 Evaluation Loss = 3055.595255464739 Accuracy = 0.888\n",
      "\t 99 Loss = 3193.4180964421644 Train_Accuracy 0.907 Evaluation Loss = 3234.2078532285277 Accuracy = 0.887\n",
      "1 0.10835401966341551\n"
     ]
    },
    {
     "name": "stderr",
     "output_type": "stream",
     "text": [
      "/home/manel/anaconda3/lib/python3.6/site-packages/sklearn/preprocessing/label.py:151: DeprecationWarning: The truth value of an empty array is ambiguous. Returning False, but in future this will result in an error. Use `array.size > 0` to check that an array is not empty.\n",
      "  if diff:\n"
     ]
    },
    {
     "name": "stdout",
     "output_type": "stream",
     "text": [
      "\t 0 Loss = 693.0798087043185 Train_Accuracy 0.533 Evaluation Loss = 693.3065684773686 Accuracy = 0.509\n",
      "\t 10 Loss = 340.64534459611866 Train_Accuracy 0.89 Evaluation Loss = 336.9257406030827 Accuracy = 0.885\n",
      "\t 20 Loss = 362.64740675624705 Train_Accuracy 0.91 Evaluation Loss = 358.78353471659256 Accuracy = 0.888\n",
      "\t 30 Loss = 409.00512064280554 Train_Accuracy 0.888 Evaluation Loss = 399.3057589014081 Accuracy = 0.901\n",
      "\t 40 Loss = 423.3742881269493 Train_Accuracy 0.903 Evaluation Loss = 430.63683268125703 Accuracy = 0.904\n",
      "\t 50 Loss = 459.2323472156579 Train_Accuracy 0.897 Evaluation Loss = 501.8587032083018 Accuracy = 0.886\n",
      "\t 60 Loss = 504.0593658817821 Train_Accuracy 0.895 Evaluation Loss = 551.3097199478507 Accuracy = 0.879\n",
      "\t 70 Loss = 539.2395182662547 Train_Accuracy 0.905 Evaluation Loss = 564.5358870183768 Accuracy = 0.903\n",
      "\t 80 Loss = 593.8743270113995 Train_Accuracy 0.896 Evaluation Loss = 624.3495135899018 Accuracy = 0.881\n",
      "\t 90 Loss = 615.997362918243 Train_Accuracy 0.9 Evaluation Loss = 628.0706255504265 Accuracy = 0.892\n",
      "\t 99 Loss = 643.7576291388061 Train_Accuracy 0.893 Evaluation Loss = 691.9203788582264 Accuracy = 0.876\n",
      "10 0.10709329371982568\n"
     ]
    },
    {
     "name": "stderr",
     "output_type": "stream",
     "text": [
      "/home/manel/anaconda3/lib/python3.6/site-packages/sklearn/preprocessing/label.py:151: DeprecationWarning: The truth value of an empty array is ambiguous. Returning False, but in future this will result in an error. Use `array.size > 0` to check that an array is not empty.\n",
      "  if diff:\n"
     ]
    },
    {
     "name": "stdout",
     "output_type": "stream",
     "text": [
      "\t 0 Loss = 694.0022506968222 Train_Accuracy 0.443 Evaluation Loss = 694.3376138129959 Accuracy = 0.436\n",
      "\t 10 Loss = 285.45844781296665 Train_Accuracy 0.888 Evaluation Loss = 276.50781551506003 Accuracy = 0.896\n",
      "\t 20 Loss = 284.69086181571345 Train_Accuracy 0.887 Evaluation Loss = 279.0063888278644 Accuracy = 0.891\n",
      "\t 30 Loss = 247.80024718636656 Train_Accuracy 0.901 Evaluation Loss = 283.44703213438316 Accuracy = 0.896\n",
      "\t 40 Loss = 257.85919157033953 Train_Accuracy 0.912 Evaluation Loss = 296.42650032814964 Accuracy = 0.882\n",
      "\t 50 Loss = 278.32075215400505 Train_Accuracy 0.898 Evaluation Loss = 319.20483177791573 Accuracy = 0.881\n",
      "\t 60 Loss = 270.8731033249655 Train_Accuracy 0.899 Evaluation Loss = 293.47020583843397 Accuracy = 0.891\n",
      "\t 70 Loss = 282.9197747372006 Train_Accuracy 0.892 Evaluation Loss = 269.8954230517264 Accuracy = 0.897\n",
      "\t 80 Loss = 299.71168160356507 Train_Accuracy 0.89 Evaluation Loss = 328.3401297071672 Accuracy = 0.893\n",
      "\t 90 Loss = 291.3303083112959 Train_Accuracy 0.898 Evaluation Loss = 309.5520762047557 Accuracy = 0.892\n",
      "\t 99 Loss = 306.88064872033164 Train_Accuracy 0.892 Evaluation Loss = 295.35748513446373 Accuracy = 0.895\n",
      "100 0.10832470045542508\n"
     ]
    },
    {
     "name": "stderr",
     "output_type": "stream",
     "text": [
      "/home/manel/anaconda3/lib/python3.6/site-packages/sklearn/preprocessing/label.py:151: DeprecationWarning: The truth value of an empty array is ambiguous. Returning False, but in future this will result in an error. Use `array.size > 0` to check that an array is not empty.\n",
      "  if diff:\n"
     ]
    },
    {
     "name": "stdout",
     "output_type": "stream",
     "text": [
      "\t 0 Loss = 692.5353337422562 Train_Accuracy 0.547 Evaluation Loss = 692.5028674960389 Accuracy = 0.523\n",
      "\t 10 Loss = 286.61573223308994 Train_Accuracy 0.868 Evaluation Loss = 286.32813367967077 Accuracy = 0.892\n",
      "\t 20 Loss = 307.65397044082124 Train_Accuracy 0.875 Evaluation Loss = 299.8559529587343 Accuracy = 0.882\n",
      "\t 30 Loss = 243.7530095565764 Train_Accuracy 0.911 Evaluation Loss = 249.3947246312322 Accuracy = 0.908\n",
      "\t 40 Loss = 274.6451351537993 Train_Accuracy 0.886 Evaluation Loss = 263.17424215887957 Accuracy = 0.894\n",
      "\t 50 Loss = 253.70889573302702 Train_Accuracy 0.9 Evaluation Loss = 260.79037921210744 Accuracy = 0.897\n",
      "\t 60 Loss = 266.3760374605632 Train_Accuracy 0.888 Evaluation Loss = 273.8479024316828 Accuracy = 0.89\n",
      "\t 70 Loss = 270.247558904072 Train_Accuracy 0.9 Evaluation Loss = 313.2309357832646 Accuracy = 0.879\n",
      "\t 80 Loss = 254.11323364476806 Train_Accuracy 0.904 Evaluation Loss = 306.7723421059175 Accuracy = 0.882\n",
      "\t 90 Loss = 239.25610943783641 Train_Accuracy 0.913 Evaluation Loss = 309.64991690468486 Accuracy = 0.872\n",
      "\t 99 Loss = 247.62640127997452 Train_Accuracy 0.894 Evaluation Loss = 290.8191906453308 Accuracy = 0.884\n",
      "1000 0.107493989562362\n"
     ]
    },
    {
     "name": "stderr",
     "output_type": "stream",
     "text": [
      "/home/manel/anaconda3/lib/python3.6/site-packages/sklearn/preprocessing/label.py:151: DeprecationWarning: The truth value of an empty array is ambiguous. Returning False, but in future this will result in an error. Use `array.size > 0` to check that an array is not empty.\n",
      "  if diff:\n"
     ]
    },
    {
     "name": "stdout",
     "output_type": "stream",
     "text": [
      "\t 0 Loss = 693.5096949477544 Train_Accuracy 0.466 Evaluation Loss = 693.6269191285008 Accuracy = 0.464\n",
      "\t 10 Loss = 305.89380305420326 Train_Accuracy 0.871 Evaluation Loss = 277.4338350125649 Accuracy = 0.883\n",
      "\t 20 Loss = 253.55505253649272 Train_Accuracy 0.897 Evaluation Loss = 263.3587930135532 Accuracy = 0.899\n",
      "\t 30 Loss = 246.48070943197777 Train_Accuracy 0.897 Evaluation Loss = 258.4340400327692 Accuracy = 0.889\n",
      "\t 40 Loss = 270.53217426302894 Train_Accuracy 0.885 Evaluation Loss = 259.22544253700323 Accuracy = 0.894\n",
      "\t 50 Loss = 268.80251126351953 Train_Accuracy 0.893 Evaluation Loss = 304.62323885608635 Accuracy = 0.891\n",
      "\t 60 Loss = 255.652881858463 Train_Accuracy 0.903 Evaluation Loss = 299.1090254339194 Accuracy = 0.881\n",
      "\t 70 Loss = 252.99333951780866 Train_Accuracy 0.905 Evaluation Loss = 282.29343097453136 Accuracy = 0.886\n",
      "\t 80 Loss = 244.94529590375842 Train_Accuracy 0.895 Evaluation Loss = 248.08931170126746 Accuracy = 0.902\n",
      "\t 90 Loss = 261.7985981328324 Train_Accuracy 0.91 Evaluation Loss = 275.97024256836704 Accuracy = 0.891\n",
      "\t 99 Loss = 281.77672078346 Train_Accuracy 0.883 Evaluation Loss = 269.8859881273839 Accuracy = 0.887\n",
      "10000 0.10724966282910808\n"
     ]
    },
    {
     "name": "stderr",
     "output_type": "stream",
     "text": [
      "/home/manel/anaconda3/lib/python3.6/site-packages/sklearn/preprocessing/label.py:151: DeprecationWarning: The truth value of an empty array is ambiguous. Returning False, but in future this will result in an error. Use `array.size > 0` to check that an array is not empty.\n",
      "  if diff:\n"
     ]
    },
    {
     "name": "stdout",
     "output_type": "stream",
     "text": [
      "\t 0 Loss = 692.525431492221 Train_Accuracy 0.525 Evaluation Loss = 692.6389761482366 Accuracy = 0.494\n",
      "\t 10 Loss = 248.76245071012258 Train_Accuracy 0.895 Evaluation Loss = 282.916626770213 Accuracy = 0.876\n",
      "\t 20 Loss = 264.9823829370913 Train_Accuracy 0.886 Evaluation Loss = 279.63544127652995 Accuracy = 0.885\n",
      "\t 30 Loss = 254.34581918366732 Train_Accuracy 0.903 Evaluation Loss = 312.89810618705036 Accuracy = 0.869\n",
      "\t 40 Loss = 245.05269639619192 Train_Accuracy 0.9 Evaluation Loss = 279.2634147000444 Accuracy = 0.878\n",
      "\t 50 Loss = 280.5513780489585 Train_Accuracy 0.874 Evaluation Loss = 289.08244140159604 Accuracy = 0.89\n",
      "\t 60 Loss = 269.0239823547 Train_Accuracy 0.901 Evaluation Loss = 300.9097452176205 Accuracy = 0.878\n",
      "\t 70 Loss = 252.71999671812864 Train_Accuracy 0.889 Evaluation Loss = 289.2228743185717 Accuracy = 0.88\n",
      "\t 80 Loss = 247.73636809403098 Train_Accuracy 0.91 Evaluation Loss = 275.81035482673667 Accuracy = 0.89\n",
      "\t 90 Loss = 276.7523834511055 Train_Accuracy 0.896 Evaluation Loss = 263.1327854367032 Accuracy = 0.889\n",
      "\t 99 Loss = 244.49245616458526 Train_Accuracy 0.903 Evaluation Loss = 247.02671867920176 Accuracy = 0.896\n",
      "10000000000.0 0.1072301166904478\n",
      "Done.\n"
     ]
    },
    {
     "name": "stderr",
     "output_type": "stream",
     "text": [
      "/home/manel/anaconda3/lib/python3.6/site-packages/sklearn/preprocessing/label.py:151: DeprecationWarning: The truth value of an empty array is ambiguous. Returning False, but in future this will result in an error. Use `array.size > 0` to check that an array is not empty.\n",
      "  if diff:\n"
     ]
    }
   ],
   "source": [
    "# Display a progress bar that counts how many training rounds we have done so far\n",
    "progress3= IntProgress(min=0, max=len(Cs),description=\"Trials:\",bar_style=\"info\")\n",
    "display(progress3)\n",
    "\n",
    "logistic_val_error=[]\n",
    "progress3.value=0\n",
    "for C in Cs:\n",
    "    base_model=LogisticGDClassifier(penalty=1/C,max_iter=100, learning_rate=0.005,tol=1e-8)\n",
    "    model=TextChi2Classifier(F_best,base_model)\n",
    "    model.fit(X,Y,X_val,Y_val)\n",
    "    Y_pred=model.predict(X_val)\n",
    "    acc=np.mean(Y_pred==Y_val)\n",
    "    logistic_val_error.append(1-acc)\n",
    "    print(C,1-acc)\n",
    "    progress3.value+=1\n",
    "print(\"Done.\")"
   ]
  },
  {
   "cell_type": "code",
   "execution_count": 26,
   "metadata": {
    "ExecuteTime": {
     "end_time": "2018-02-21T21:24:39.726455Z",
     "start_time": "2018-02-21T21:24:38.842107Z"
    }
   },
   "outputs": [
    {
     "data": {
      "text/plain": [
       "[<matplotlib.lines.Line2D at 0x7ffb599cb630>]"
      ]
     },
     "execution_count": 26,
     "metadata": {},
     "output_type": "execute_result"
    },
    {
     "data": {
      "image/png": "[encoded data removed]",
      "text/plain": [
       "<matplotlib.figure.Figure at 0x7ffb5992bcf8>"
      ]
     },
     "metadata": {},
     "output_type": "display_data"
    }
   ],
   "source": [
    "plt.semilogx(1/np.array(Cs),logistic_val_error)"
   ]
  },
  {
   "cell_type": "code",
   "execution_count": 27,
   "metadata": {
    "ExecuteTime": {
     "end_time": "2018-02-21T21:24:39.736480Z",
     "start_time": "2018-02-21T21:24:39.729462Z"
    }
   },
   "outputs": [
    {
     "name": "stdout",
     "output_type": "stream",
     "text": [
      "C,error\n",
      "0.0001 0.20045542503078517\n",
      "0.001 0.17943355290162433\n",
      "0.01 0.13117413654932464\n",
      "0.1 0.11210687828619459\n",
      "1 0.10835401966341551\n",
      "10 0.10709329371982568\n",
      "100 0.10832470045542508\n",
      "1000 0.107493989562362\n",
      "10000 0.10724966282910808\n",
      "10000000000.0 0.1072301166904478\n"
     ]
    }
   ],
   "source": [
    "logistic_val_error=np.array(logistic_val_error)\n",
    "print(\"C,error\")\n",
    "for idx,C in enumerate(Cs):\n",
    "    print(C,logistic_val_error[idx])"
   ]
  },
  {
   "cell_type": "code",
   "execution_count": 28,
   "metadata": {
    "ExecuteTime": {
     "end_time": "2018-02-21T21:24:39.761548Z",
     "start_time": "2018-02-21T21:24:39.739490Z"
    }
   },
   "outputs": [
    {
     "name": "stdout",
     "output_type": "stream",
     "text": [
      "5 10 0.10709329371982568\n"
     ]
    }
   ],
   "source": [
    "best_idx=logistic_val_error.argmin()\n",
    "best_C=Cs[best_idx]\n",
    "print(best_idx,best_C,logistic_val_error[best_idx])"
   ]
  },
  {
   "cell_type": "markdown",
   "metadata": {
    "ExecuteTime": {
     "end_time": "2017-11-28T02:30:19.174446Z",
     "start_time": "2017-11-28T02:30:19.170435Z"
    },
    "collapsed": true
   },
   "source": [
    "## Test best model"
   ]
  },
  {
   "cell_type": "markdown",
   "metadata": {},
   "source": [
    "Best model is logistic regression, with C=10 used on all features"
   ]
  },
  {
   "cell_type": "code",
   "execution_count": 29,
   "metadata": {
    "ExecuteTime": {
     "end_time": "2018-02-21T21:24:44.503079Z",
     "start_time": "2018-02-21T21:24:39.764556Z"
    }
   },
   "outputs": [],
   "source": [
    "X=countVectorizer.fit_transform(documents[\"Summary\"])\n",
    "X_test=countVectorizer.transform(test_documents[\"Summary\"])\n"
   ]
  },
  {
   "cell_type": "code",
   "execution_count": 30,
   "metadata": {
    "ExecuteTime": {
     "end_time": "2018-02-21T21:24:44.512105Z",
     "start_time": "2018-02-21T21:24:44.505091Z"
    }
   },
   "outputs": [],
   "source": [
    "Y=documents[\"Score\"]>3\n",
    "Y_test=test_documents[\"Score\"]>3"
   ]
  },
  {
   "cell_type": "code",
   "execution_count": 31,
   "metadata": {
    "ExecuteTime": {
     "end_time": "2018-02-21T21:39:50.482753Z",
     "start_time": "2018-02-21T21:39:50.478740Z"
    }
   },
   "outputs": [],
   "source": [
    "base_model=LogisticGDClassifier(penalty=1/best_C,max_iter=100, learning_rate=0.005,tol=1e-8)\n",
    "model=TextChi2Classifier(F_best,base_model)"
   ]
  },
  {
   "cell_type": "code",
   "execution_count": 32,
   "metadata": {
    "ExecuteTime": {
     "end_time": "2018-02-21T21:49:03.943710Z",
     "start_time": "2018-02-21T21:39:51.200129Z"
    }
   },
   "outputs": [
    {
     "name": "stdout",
     "output_type": "stream",
     "text": [
      "\t 0 Loss = 692.5875060979083 Train_Accuracy 0.539 Evaluation Loss = 692.660018572228 Accuracy = 0.548\n",
      "\t 10 Loss = 345.01313047336026 Train_Accuracy 0.899 Evaluation Loss = 349.1367412319402 Accuracy = 0.887\n",
      "\t 20 Loss = 393.7608255567423 Train_Accuracy 0.88 Evaluation Loss = 414.29650144168744 Accuracy = 0.879\n",
      "\t 30 Loss = 446.9316089255923 Train_Accuracy 0.895 Evaluation Loss = 436.7301767369763 Accuracy = 0.882\n",
      "\t 40 Loss = 494.38427362353104 Train_Accuracy 0.887 Evaluation Loss = 469.8574195087911 Accuracy = 0.896\n",
      "\t 50 Loss = 499.64961590822725 Train_Accuracy 0.893 Evaluation Loss = 517.1144909985813 Accuracy = 0.89\n",
      "\t 60 Loss = 563.1245821155295 Train_Accuracy 0.889 Evaluation Loss = 556.7141212522481 Accuracy = 0.895\n",
      "\t 70 Loss = 582.3752955304623 Train_Accuracy 0.898 Evaluation Loss = 586.3758644067892 Accuracy = 0.906\n",
      "\t 80 Loss = 612.0367717411063 Train_Accuracy 0.9 Evaluation Loss = 573.7166141482347 Accuracy = 0.919\n",
      "\t 90 Loss = 658.513088501644 Train_Accuracy 0.894 Evaluation Loss = 681.6560012994535 Accuracy = 0.903\n",
      "\t 99 Loss = 680.905589068445 Train_Accuracy 0.905 Evaluation Loss = 694.9062651443385 Accuracy = 0.904\n"
     ]
    },
    {
     "data": {
      "text/plain": [
       "<__main__.TextChi2Classifier at 0x7ffb59a1c5c0>"
      ]
     },
     "execution_count": 32,
     "metadata": {},
     "output_type": "execute_result"
    }
   ],
   "source": [
    "model.fit(X,Y,X_test,Y_test)"
   ]
  },
  {
   "cell_type": "code",
   "execution_count": 33,
   "metadata": {
    "ExecuteTime": {
     "end_time": "2018-02-21T21:49:04.000573Z",
     "start_time": "2018-02-21T21:49:03.950723Z"
    }
   },
   "outputs": [
    {
     "name": "stderr",
     "output_type": "stream",
     "text": [
      "/home/manel/anaconda3/lib/python3.6/site-packages/sklearn/preprocessing/label.py:151: DeprecationWarning: The truth value of an empty array is ambiguous. Returning False, but in future this will result in an error. Use `array.size > 0` to check that an array is not empty.\n",
      "  if diff:\n"
     ]
    },
    {
     "data": {
      "text/plain": [
       "0.8933961932237976"
      ]
     },
     "execution_count": 33,
     "metadata": {},
     "output_type": "execute_result"
    }
   ],
   "source": [
    "Y_pred=model.predict(X_test)\n",
    "np.mean(Y_pred==Y_test)"
   ]
  },
  {
   "cell_type": "markdown",
   "metadata": {
    "ExecuteTime": {
     "end_time": "2018-02-11T13:16:55.519886Z",
     "start_time": "2018-02-11T13:12:44.529Z"
    }
   },
   "source": [
    "## ROC Curve"
   ]
  },
  {
   "cell_type": "code",
   "execution_count": 34,
   "metadata": {
    "ExecuteTime": {
     "end_time": "2018-02-21T21:49:04.224179Z",
     "start_time": "2018-02-21T21:49:04.004584Z"
    }
   },
   "outputs": [],
   "source": [
    "\n",
    "prob=model.predict_proba(X_test)\n",
    "fpr,tpr,threshold=metrics.roc_curve(Y_test,prob[:,1])\n",
    "roc=np.c_[fpr,tpr,threshold]\n",
    "data=pd.DataFrame(roc,columns=[\"fpr\",\"tpr\",\"threshold\"])\n",
    "data.to_csv(data_dir+\"/logistic_roc.csv\",index=False)\n"
   ]
  },
  {
   "cell_type": "code",
   "execution_count": 35,
   "metadata": {
    "ExecuteTime": {
     "end_time": "2018-02-21T21:49:04.252252Z",
     "start_time": "2018-02-21T21:49:04.229193Z"
    }
   },
   "outputs": [
    {
     "name": "stdout",
     "output_type": "stream",
     "text": [
      "0.9305065430541628\n"
     ]
    }
   ],
   "source": [
    "auc=metrics.roc_auc_score(Y_test,prob[:,1])\n",
    "print(auc)"
   ]
  },
  {
   "cell_type": "code",
   "execution_count": 36,
   "metadata": {
    "ExecuteTime": {
     "end_time": "2018-02-21T21:49:04.266291Z",
     "start_time": "2018-02-21T21:49:04.254258Z"
    }
   },
   "outputs": [
    {
     "name": "stdout",
     "output_type": "stream",
     "text": [
      "11391 0.499971989359619\n",
      "0.33847769877181644 0.9579491792219473\n",
      "Accuracy 0.8934137846110544\n"
     ]
    }
   ],
   "source": [
    "ht=np.argmin((threshold-0.5)**2)\n",
    "print(ht,threshold[ht])\n",
    "print(fpr[ht],tpr[ht])\n",
    "print(\"Accuracy\",(1-fpr[ht])*np.mean(Y_test==0)+tpr[ht]*np.mean(Y_test==1))"
   ]
  },
  {
   "cell_type": "code",
   "execution_count": 37,
   "metadata": {
    "ExecuteTime": {
     "end_time": "2018-02-21T21:49:04.363977Z",
     "start_time": "2018-02-21T21:49:04.268296Z"
    }
   },
   "outputs": [
    {
     "name": "stdout",
     "output_type": "stream",
     "text": [
      "11192 0.4695317460646202\n",
      "0.3358920491273432 0.9394423206656172\n",
      "Accuracy 0.8794989972909263\n"
     ]
    },
    {
     "name": "stderr",
     "output_type": "stream",
     "text": [
      "/home/manel/anaconda3/lib/python3.6/site-packages/ipykernel_launcher.py:3: FutureWarning: 'argmin' is deprecated. Use 'idxmin' instead. The behavior of 'argmin' will be corrected to return the positional minimum in the future. Use 'series.values.argmin' to get the position of the minimum now.\n",
      "  This is separate from the ipykernel package so we can avoid doing imports until\n"
     ]
    }
   ],
   "source": [
    "set_roc=pd.read_csv(data_dir+\"/set_roc.csv\")\n",
    "set_roc.head()\n",
    "set_ht=((set_roc[\"threshold\"]-0.5)**2).argmin()\n",
    "print(set_ht,set_roc[\"threshold\"].iloc[ht])\n",
    "set_fpr=set_roc[\"fpr\"].iloc[ht]\n",
    "set_tpr=set_roc[\"tpr\"].iloc[ht]\n",
    "print(set_fpr,set_tpr)\n",
    "print(\"Accuracy\",(1-set_fpr)*np.mean(Y_test==0)+set_tpr*np.mean(Y_test==1))"
   ]
  },
  {
   "cell_type": "code",
   "execution_count": 38,
   "metadata": {
    "ExecuteTime": {
     "end_time": "2018-02-21T21:49:04.767692Z",
     "start_time": "2018-02-21T21:49:04.366986Z"
    }
   },
   "outputs": [
    {
     "data": {
      "text/plain": [
       "Text(0,0.5,'True Positive Rate')"
      ]
     },
     "execution_count": 38,
     "metadata": {},
     "output_type": "execute_result"
    },
    {
     "data": {
      "image/png": "[encoded data removed]",
      "text/plain": [
       "<matplotlib.figure.Figure at 0x7ffb5b499fd0>"
      ]
     },
     "metadata": {},
     "output_type": "display_data"
    }
   ],
   "source": [
    "plt.figure(figsize=(10,8))\n",
    "plt.clf()\n",
    "plt.subplot(111)\n",
    "ax = plt.gca()\n",
    "\n",
    "color = next(ax._get_lines.prop_cycler)['color']\n",
    "plt.plot(set_roc[\"fpr\"],set_roc[\"tpr\"],label=\"Naive Bayes\",color=color)\n",
    "plt.plot([set_fpr], [set_tpr], marker='D', markersize=10, color=color)\n",
    "\n",
    "\n",
    "color = next(ax._get_lines.prop_cycler)['color']\n",
    "plt.plot(fpr,tpr,label=\"Logistic\",color=color)\n",
    "plt.plot([fpr[ht]], [tpr[ht]], marker='D', markersize=10, color=color)\n",
    "\n",
    "plt.legend()\n",
    "plt.xlabel(\"False Positive Rate\")\n",
    "plt.ylabel(\"True Positive Rate\")"
   ]
  },
  {
   "cell_type": "code",
   "execution_count": null,
   "metadata": {},
   "outputs": [],
   "source": []
  }
 ],
 "metadata": {
  "kernelspec": {
   "display_name": "Python 3",
   "language": "python",
   "name": "python3"
  },
  "language_info": {
   "codemirror_mode": {
    "name": "ipython",
    "version": 3
   },
   "file_extension": ".py",
   "mimetype": "text/x-python",
   "name": "python",
   "nbconvert_exporter": "python",
   "pygments_lexer": "ipython3",
   "version": "3.6.5"
  },
  "toc": {
   "base_numbering": 1,
   "nav_menu": {},
   "number_sections": true,
   "sideBar": true,
   "skip_h1_title": true,
   "title_cell": "Table of Contents",
   "title_sidebar": "Contents",
   "toc_cell": false,
   "toc_position": {},
   "toc_section_display": "block",
   "toc_window_display": false
  },
  "widgets": {
   "state": {
    "8840df332ff740e480bbdd81936d3ffc": {
     "views": [
      {
       "cell_index": 47
      }
     ]
    },
    "9eb260872d73428aabe5e661910dc8ea": {
     "views": [
      {
       "cell_index": 62
      }
     ]
    },
    "e7eda7b7372b422e82445f28340b5cf5": {
     "views": [
      {
       "cell_index": 53
      }
     ]
    }
   },
   "version": "1.2.0"
  }
 },
 "nbformat": 4,
 "nbformat_minor": 2
}
